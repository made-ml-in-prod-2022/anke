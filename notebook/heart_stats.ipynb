{
 "nbformat": 4,
 "nbformat_minor": 0,
 "metadata": {
  "colab": {
   "name": "heart_stats.ipynb",
   "provenance": []
  },
  "kernelspec": {
   "name": "python3",
   "display_name": "Python 3"
  },
  "language_info": {
   "name": "python"
  }
 },
 "cells": [
  {
   "cell_type": "markdown",
   "source": [
    "#Датасет \n",
    "\n",
    "https://www.kaggle.com/datasets/cherngs/heart-disease-cleveland-uci"
   ],
   "metadata": {
    "id": "0gFOc99f4f4W",
    "pycharm": {
     "name": "#%% md\n"
    }
   }
  },
  {
   "cell_type": "code",
   "execution_count": null,
   "metadata": {
    "id": "vzbbsr5cWXBV",
    "pycharm": {
     "name": "#%%\n"
    }
   },
   "outputs": [],
   "source": [
    "DATASET_PATH = 'C:\\\\Users\\\\anke\\\\OneDrive\\\\Документы\\\\ML\\\\heart_kaggle\\\\heart_cleveland_upload.csv'"
   ]
  },
  {
   "cell_type": "code",
   "source": [
    "import pandas as pd\n",
    "pd.options.display.float_format = '{:.3f}'.format\n",
    "import numpy as np\n",
    "from matplotlib import pyplot as plt \n",
    "plt.style.use('ggplot')\n",
    "import sklearn\n",
    "from sklearn.linear_model import LogisticRegression\n",
    "from sklearn.tree import DecisionTreeClassifier\n",
    "from sklearn.ensemble import RandomForestClassifier\n",
    "from sklearn.decomposition import PCA\n",
    "from sklearn.metrics import confusion_matrix, roc_auc_score, precision_score, accuracy_score, recall_score\n",
    "import scipy.stats as stats\n",
    "from itertools import combinations, product\n",
    "from sklearn.model_selection import train_test_split"
   ],
   "metadata": {
    "id": "WUjXvPNyXNbC",
    "pycharm": {
     "name": "#%%\n"
    }
   },
   "execution_count": null,
   "outputs": []
  },
  {
   "cell_type": "code",
   "source": [
    "data = pd.read_csv(DATASET_PATH)\n",
    "data.head()"
   ],
   "metadata": {
    "colab": {
     "base_uri": "https://localhost:8080/",
     "height": 206
    },
    "id": "4kHSitHrYtgB",
    "outputId": "e1d8b8fb-27fe-4a4a-cf97-7c7bb4c6e121",
    "pycharm": {
     "name": "#%%\n"
    }
   },
   "execution_count": null,
   "outputs": [
    {
     "output_type": "execute_result",
     "data": {
      "text/plain": [
       "   age  sex  cp  trestbps  chol  fbs  restecg  thalach  exang  oldpeak  slope  \\\n",
       "0   69    1   0       160   234    1        2      131      0    0.100      1   \n",
       "1   69    0   0       140   239    0        0      151      0    1.800      0   \n",
       "2   66    0   0       150   226    0        0      114      0    2.600      2   \n",
       "3   65    1   0       138   282    1        2      174      0    1.400      1   \n",
       "4   64    1   0       110   211    0        2      144      1    1.800      1   \n",
       "\n",
       "   ca  thal  condition  \n",
       "0   1     0          0  \n",
       "1   2     0          0  \n",
       "2   0     0          0  \n",
       "3   1     0          1  \n",
       "4   0     0          0  "
      ],
      "text/html": [
       "<div>\n",
       "<style scoped>\n",
       "    .dataframe tbody tr th:only-of-type {\n",
       "        vertical-align: middle;\n",
       "    }\n",
       "\n",
       "    .dataframe tbody tr th {\n",
       "        vertical-align: top;\n",
       "    }\n",
       "\n",
       "    .dataframe thead th {\n",
       "        text-align: right;\n",
       "    }\n",
       "</style>\n",
       "<table border=\"1\" class=\"dataframe\">\n",
       "  <thead>\n",
       "    <tr style=\"text-align: right;\">\n",
       "      <th></th>\n",
       "      <th>age</th>\n",
       "      <th>sex</th>\n",
       "      <th>cp</th>\n",
       "      <th>trestbps</th>\n",
       "      <th>chol</th>\n",
       "      <th>fbs</th>\n",
       "      <th>restecg</th>\n",
       "      <th>thalach</th>\n",
       "      <th>exang</th>\n",
       "      <th>oldpeak</th>\n",
       "      <th>slope</th>\n",
       "      <th>ca</th>\n",
       "      <th>thal</th>\n",
       "      <th>condition</th>\n",
       "    </tr>\n",
       "  </thead>\n",
       "  <tbody>\n",
       "    <tr>\n",
       "      <th>0</th>\n",
       "      <td>69</td>\n",
       "      <td>1</td>\n",
       "      <td>0</td>\n",
       "      <td>160</td>\n",
       "      <td>234</td>\n",
       "      <td>1</td>\n",
       "      <td>2</td>\n",
       "      <td>131</td>\n",
       "      <td>0</td>\n",
       "      <td>0.100</td>\n",
       "      <td>1</td>\n",
       "      <td>1</td>\n",
       "      <td>0</td>\n",
       "      <td>0</td>\n",
       "    </tr>\n",
       "    <tr>\n",
       "      <th>1</th>\n",
       "      <td>69</td>\n",
       "      <td>0</td>\n",
       "      <td>0</td>\n",
       "      <td>140</td>\n",
       "      <td>239</td>\n",
       "      <td>0</td>\n",
       "      <td>0</td>\n",
       "      <td>151</td>\n",
       "      <td>0</td>\n",
       "      <td>1.800</td>\n",
       "      <td>0</td>\n",
       "      <td>2</td>\n",
       "      <td>0</td>\n",
       "      <td>0</td>\n",
       "    </tr>\n",
       "    <tr>\n",
       "      <th>2</th>\n",
       "      <td>66</td>\n",
       "      <td>0</td>\n",
       "      <td>0</td>\n",
       "      <td>150</td>\n",
       "      <td>226</td>\n",
       "      <td>0</td>\n",
       "      <td>0</td>\n",
       "      <td>114</td>\n",
       "      <td>0</td>\n",
       "      <td>2.600</td>\n",
       "      <td>2</td>\n",
       "      <td>0</td>\n",
       "      <td>0</td>\n",
       "      <td>0</td>\n",
       "    </tr>\n",
       "    <tr>\n",
       "      <th>3</th>\n",
       "      <td>65</td>\n",
       "      <td>1</td>\n",
       "      <td>0</td>\n",
       "      <td>138</td>\n",
       "      <td>282</td>\n",
       "      <td>1</td>\n",
       "      <td>2</td>\n",
       "      <td>174</td>\n",
       "      <td>0</td>\n",
       "      <td>1.400</td>\n",
       "      <td>1</td>\n",
       "      <td>1</td>\n",
       "      <td>0</td>\n",
       "      <td>1</td>\n",
       "    </tr>\n",
       "    <tr>\n",
       "      <th>4</th>\n",
       "      <td>64</td>\n",
       "      <td>1</td>\n",
       "      <td>0</td>\n",
       "      <td>110</td>\n",
       "      <td>211</td>\n",
       "      <td>0</td>\n",
       "      <td>2</td>\n",
       "      <td>144</td>\n",
       "      <td>1</td>\n",
       "      <td>1.800</td>\n",
       "      <td>1</td>\n",
       "      <td>0</td>\n",
       "      <td>0</td>\n",
       "      <td>0</td>\n",
       "    </tr>\n",
       "  </tbody>\n",
       "</table>\n",
       "</div>"
      ]
     },
     "metadata": {},
     "execution_count": 12
    }
   ]
  },
  {
   "cell_type": "code",
   "source": [
    "f'длина: {len(data)}'"
   ],
   "metadata": {
    "colab": {
     "base_uri": "https://localhost:8080/"
    },
    "id": "tG8qlkzh9aYt",
    "outputId": "bb8c710c-528c-42f7-a9c9-9e28e326a375",
    "pycharm": {
     "name": "#%%\n"
    }
   },
   "execution_count": null,
   "outputs": [
    {
     "output_type": "execute_result",
     "data": {
      "text/plain": [
       "'длина: 297'"
      ]
     },
     "metadata": {},
     "execution_count": 13
    }
   ]
  },
  {
   "cell_type": "markdown",
   "source": [
    "1.age: age in years \n",
    "\n",
    "2.sex: sex (1 = male; 0 = female)\n",
    "\n",
    "3.cp: chest pain type # Categorical\n",
    "\n",
    "-- Value 0: typical angina(стенокардия)\n",
    "\n",
    "-- Value 1: atypical angina\n",
    "\n",
    "-- Value 2: non-anginal pain\n",
    "\n",
    "-- Value 3: asymptomatic\n",
    "\n",
    "4.trestbps: resting blood pressure (in mm Hg on admission to the hospital)\n",
    "\n",
    "5.chol: serum cholestoral in mg/dl\n",
    "\n",
    "6.fbs: (fasting blood sugar > 120 mg/dl) (1 = true; 0 = false)\n",
    "\n",
    "7.restecg: resting electrocardiographic results # Categorical\n",
    "\n",
    "-- Value 0: normal\n",
    "\n",
    "-- Value 1: having ST-T wave abnormality (T wave inversions and/or ST elevation or depression of > 0.05 mV)\n",
    "\n",
    "-- Value 2: showing probable or definite left ventricular hypertrophy by Estes' criteria\n",
    "\n",
    "\n",
    "8.thalach: maximum heart rate achieved\n",
    "\n",
    "9.exang: exercise induced angina (1 = yes; 0 = no)\n",
    "\n",
    "10.oldpeak = ST depression induced by exercise relative to rest\n",
    "\n",
    "11.slope: the slope of the peak exercise ST segment # Categorical\n",
    "\n",
    "-- Value 0: upsloping\n",
    "\n",
    "-- Value 1: flat\n",
    "\n",
    "-- Value 2: downsloping\n",
    "\n",
    "12.ca: number of major vessels (0-3) colored by flourosopy # Ordered\n",
    "\n",
    "13.thal: A blood disorder called thalassemia # Categorical\n",
    "\n",
    "0 = normal; 1 = fixed defect; 2 = reversable defect\n",
    "\n",
    "14.condition: 0 = no disease, 1 = disease"
   ],
   "metadata": {
    "id": "RA42z6XbbH9T",
    "pycharm": {
     "name": "#%% md\n"
    }
   }
  },
  {
   "cell_type": "code",
   "source": [
    "continious = ['age', 'trestbps', 'chol', 'thalach', 'oldpeak']\n",
    "not_continious = ['sex', 'cp', 'fbs', 'restecg', 'exang', 'slope', 'ca', 'thal']"
   ],
   "metadata": {
    "id": "wBSTyxun7kGP",
    "pycharm": {
     "name": "#%%\n"
    }
   },
   "execution_count": null,
   "outputs": []
  },
  {
   "cell_type": "code",
   "source": [
    "fig, axes = plt.subplots(3, 5, figsize=(30, 15), sharey=True)\n",
    "for i, col in enumerate(continious):\n",
    "  axes[0, i].scatter(data[col], data['condition'])\n",
    "  axes[0, i].set_xlabel(f'{col}')\n",
    "  axes[0, i].set_ylabel('condition class')\n",
    "for i, col in enumerate(not_continious):\n",
    "  all_deseased = data.condition.sum()\n",
    "  counts = {val: data[data[col]==val]['condition'].sum() / all_deseased for val in data[col].unique()}\n",
    "  axes[1 + i // 5, i % 5].bar(counts.keys(), counts.values())\n",
    "  axes[1 + i // 5, i % 5].set_xlabel(f'{col}')\n",
    "  axes[1 + i // 5, i % 5].set_ylabel('condition rate')\n",
    "fig.suptitle('Зависимость от каждого признака')\n",
    "plt.show()"
   ],
   "metadata": {
    "colab": {
     "base_uri": "https://localhost:8080/",
     "height": 1000
    },
    "id": "nXgQADHCdu2-",
    "outputId": "80daf921-a51a-431f-a298-866652d1d19c",
    "pycharm": {
     "name": "#%%\n"
    }
   },
   "execution_count": null,
   "outputs": [
    {
     "output_type": "display_data",
     "data": {
      "text/plain": [
       "<Figure size 2160x1080 with 15 Axes>"
      ],
      "image/png": "[encoded data removed]"
     },
     "metadata": {}
    }
   ]
  },
  {
   "cell_type": "code",
   "source": [
    "f\"количество мужчин: {data['sex'].sum()}, длина датасета: {len(data)}\"  "
   ],
   "metadata": {
    "colab": {
     "base_uri": "https://localhost:8080/"
    },
    "id": "Ynv7S9h_pxSQ",
    "outputId": "c52d16b8-0f7a-4b62-b430-01e99c6da05c",
    "pycharm": {
     "name": "#%%\n"
    }
   },
   "execution_count": null,
   "outputs": [
    {
     "output_type": "execute_result",
     "data": {
      "text/plain": [
       "'количество мужчин: 201, длина датасета: 297'"
      ]
     },
     "metadata": {},
     "execution_count": 16
    }
   ]
  },
  {
   "cell_type": "markdown",
   "source": [
    "# корреляции"
   ],
   "metadata": {
    "id": "dhK0BnCM_Qjh",
    "pycharm": {
     "name": "#%% md\n"
    }
   }
  },
  {
   "cell_type": "code",
   "source": [
    "cont_and_bin = ['age', 'trestbps', 'chol', 'thalach', 'oldpeak', 'sex', 'fbs', 'exang', 'condition']\n",
    "ordinal = ['ca']\n",
    "categorical = ['cp', 'restecg', 'slope', 'thal']"
   ],
   "metadata": {
    "id": "fu2Ciy2eDuzm",
    "pycharm": {
     "name": "#%%\n"
    }
   },
   "execution_count": null,
   "outputs": []
  },
  {
   "cell_type": "code",
   "source": [
    "correlations_table = pd.DataFrame(columns=data.columns, index=data.columns, dtype=float)"
   ],
   "metadata": {
    "id": "inHsfxC5CkcC",
    "pycharm": {
     "name": "#%%\n"
    }
   },
   "execution_count": null,
   "outputs": []
  },
  {
   "cell_type": "code",
   "source": [
    "for col1, col2 in combinations(cont_and_bin, 2):\n",
    "  corr = np.corrcoef(data[col1], data[col2])[0, 1]\n",
    "  correlations_table[col1][col2] = corr\n",
    "  correlations_table[col2][col1] = corr\n",
    "\n",
    "for col1, col2 in combinations(categorical, 2):\n",
    "  crosstab = pd.crosstab(data[col1], data[col2])\n",
    "  pval = stats.chi2_contingency(crosstab)[1]\n",
    "  correlations_table[col1][col2] = pval\n",
    "  correlations_table[col2][col1] = pval\n",
    "\n",
    "for cont, cat in product(cont_and_bin, categorical):\n",
    "  groups = (np.array(data[data[cat]==val][cont]) for val in data[cat].unique())\n",
    "  pval = stats.kruskal(*groups).pvalue\n",
    "  correlations_table[cont][cat] = pval\n",
    "  correlations_table[cat][cont] = pval\n",
    "\n",
    "ranked_cat = stats.rankdata(data['ca'], method='average')\n",
    "for col in cont_and_bin:\n",
    "  corr = stats.kendalltau(ranked_cat, data[col]).correlation\n",
    "  correlations_table[col]['ca'] = corr\n",
    "  correlations_table['ca'][col] = corr \n",
    "\n",
    "for col in categorical:\n",
    "  crosstab = pd.crosstab(ranked_cat, data[col])\n",
    "  pval = stats.chi2_contingency(crosstab)[1]\n",
    "  correlations_table[col]['ca'] = pval\n",
    "  correlations_table['ca'][col] = pval\n",
    "\n",
    "\n"
   ],
   "metadata": {
    "id": "_ih9l0idElRF",
    "pycharm": {
     "name": "#%%\n"
    }
   },
   "execution_count": null,
   "outputs": []
  },
  {
   "cell_type": "code",
   "source": [
    "correlations_table.style.background_gradient(cmap='Blues')"
   ],
   "metadata": {
    "colab": {
     "base_uri": "https://localhost:8080/",
     "height": 336
    },
    "id": "AOmSvPORF3m7",
    "outputId": "08994d2a-b82d-4003-edef-81c43c27dc54",
    "pycharm": {
     "name": "#%%\n"
    }
   },
   "execution_count": null,
   "outputs": [
    {
     "output_type": "execute_result",
     "data": {
      "text/plain": [
       "<pandas.io.formats.style.Styler at 0x219cb9da550>"
      ],
      "text/html": [
       "<style  type=\"text/css\" >\n",
       "#T_7d3252d4_cbc8_11ec_b5ab_2cf05db5fb9frow0_col0,#T_7d3252d4_cbc8_11ec_b5ab_2cf05db5fb9frow1_col1,#T_7d3252d4_cbc8_11ec_b5ab_2cf05db5fb9frow2_col2,#T_7d3252d4_cbc8_11ec_b5ab_2cf05db5fb9frow3_col3,#T_7d3252d4_cbc8_11ec_b5ab_2cf05db5fb9frow4_col4,#T_7d3252d4_cbc8_11ec_b5ab_2cf05db5fb9frow5_col5,#T_7d3252d4_cbc8_11ec_b5ab_2cf05db5fb9frow6_col6,#T_7d3252d4_cbc8_11ec_b5ab_2cf05db5fb9frow7_col7,#T_7d3252d4_cbc8_11ec_b5ab_2cf05db5fb9frow8_col8,#T_7d3252d4_cbc8_11ec_b5ab_2cf05db5fb9frow9_col9,#T_7d3252d4_cbc8_11ec_b5ab_2cf05db5fb9frow10_col10,#T_7d3252d4_cbc8_11ec_b5ab_2cf05db5fb9frow11_col11,#T_7d3252d4_cbc8_11ec_b5ab_2cf05db5fb9frow12_col12,#T_7d3252d4_cbc8_11ec_b5ab_2cf05db5fb9frow13_col13{\n",
       "            background-color:  #000000;\n",
       "            color:  #f1f1f1;\n",
       "        }#T_7d3252d4_cbc8_11ec_b5ab_2cf05db5fb9frow0_col1{\n",
       "            background-color:  #dfecf7;\n",
       "            color:  #000000;\n",
       "        }#T_7d3252d4_cbc8_11ec_b5ab_2cf05db5fb9frow0_col2,#T_7d3252d4_cbc8_11ec_b5ab_2cf05db5fb9frow7_col6{\n",
       "            background-color:  #f5f9fe;\n",
       "            color:  #000000;\n",
       "        }#T_7d3252d4_cbc8_11ec_b5ab_2cf05db5fb9frow0_col3,#T_7d3252d4_cbc8_11ec_b5ab_2cf05db5fb9frow4_col2,#T_7d3252d4_cbc8_11ec_b5ab_2cf05db5fb9frow4_col10,#T_7d3252d4_cbc8_11ec_b5ab_2cf05db5fb9frow6_col5,#T_7d3252d4_cbc8_11ec_b5ab_2cf05db5fb9frow6_col7,#T_7d3252d4_cbc8_11ec_b5ab_2cf05db5fb9frow6_col12,#T_7d3252d4_cbc8_11ec_b5ab_2cf05db5fb9frow10_col1,#T_7d3252d4_cbc8_11ec_b5ab_2cf05db5fb9frow10_col4,#T_7d3252d4_cbc8_11ec_b5ab_2cf05db5fb9frow11_col0,#T_7d3252d4_cbc8_11ec_b5ab_2cf05db5fb9frow11_col13,#T_7d3252d4_cbc8_11ec_b5ab_2cf05db5fb9frow12_col6,#T_7d3252d4_cbc8_11ec_b5ab_2cf05db5fb9frow13_col8,#T_7d3252d4_cbc8_11ec_b5ab_2cf05db5fb9frow13_col9,#T_7d3252d4_cbc8_11ec_b5ab_2cf05db5fb9frow13_col11{\n",
       "            background-color:  #08306b;\n",
       "            color:  #f1f1f1;\n",
       "        }#T_7d3252d4_cbc8_11ec_b5ab_2cf05db5fb9frow0_col4,#T_7d3252d4_cbc8_11ec_b5ab_2cf05db5fb9frow1_col0,#T_7d3252d4_cbc8_11ec_b5ab_2cf05db5fb9frow10_col5{\n",
       "            background-color:  #87bddc;\n",
       "            color:  #000000;\n",
       "        }#T_7d3252d4_cbc8_11ec_b5ab_2cf05db5fb9frow0_col5{\n",
       "            background-color:  #99c7e0;\n",
       "            color:  #000000;\n",
       "        }#T_7d3252d4_cbc8_11ec_b5ab_2cf05db5fb9frow0_col6,#T_7d3252d4_cbc8_11ec_b5ab_2cf05db5fb9frow13_col5{\n",
       "            background-color:  #f2f7fd;\n",
       "            color:  #000000;\n",
       "        }#T_7d3252d4_cbc8_11ec_b5ab_2cf05db5fb9frow0_col7{\n",
       "            background-color:  #eaf2fb;\n",
       "            color:  #000000;\n",
       "        }#T_7d3252d4_cbc8_11ec_b5ab_2cf05db5fb9frow0_col8,#T_7d3252d4_cbc8_11ec_b5ab_2cf05db5fb9frow6_col0{\n",
       "            background-color:  #4b98ca;\n",
       "            color:  #000000;\n",
       "        }#T_7d3252d4_cbc8_11ec_b5ab_2cf05db5fb9frow0_col9{\n",
       "            background-color:  #2d7dbb;\n",
       "            color:  #000000;\n",
       "        }#T_7d3252d4_cbc8_11ec_b5ab_2cf05db5fb9frow0_col10,#T_7d3252d4_cbc8_11ec_b5ab_2cf05db5fb9frow9_col6{\n",
       "            background-color:  #f6faff;\n",
       "            color:  #000000;\n",
       "        }#T_7d3252d4_cbc8_11ec_b5ab_2cf05db5fb9frow0_col11{\n",
       "            background-color:  #1c6bb0;\n",
       "            color:  #f1f1f1;\n",
       "        }#T_7d3252d4_cbc8_11ec_b5ab_2cf05db5fb9frow0_col12{\n",
       "            background-color:  #e0ecf8;\n",
       "            color:  #000000;\n",
       "        }#T_7d3252d4_cbc8_11ec_b5ab_2cf05db5fb9frow0_col13,#T_7d3252d4_cbc8_11ec_b5ab_2cf05db5fb9frow11_col9{\n",
       "            background-color:  #2575b7;\n",
       "            color:  #000000;\n",
       "        }#T_7d3252d4_cbc8_11ec_b5ab_2cf05db5fb9frow1_col2,#T_7d3252d4_cbc8_11ec_b5ab_2cf05db5fb9frow7_col1{\n",
       "            background-color:  #d9e7f5;\n",
       "            color:  #000000;\n",
       "        }#T_7d3252d4_cbc8_11ec_b5ab_2cf05db5fb9frow1_col3,#T_7d3252d4_cbc8_11ec_b5ab_2cf05db5fb9frow1_col4,#T_7d3252d4_cbc8_11ec_b5ab_2cf05db5fb9frow1_col12,#T_7d3252d4_cbc8_11ec_b5ab_2cf05db5fb9frow2_col10,#T_7d3252d4_cbc8_11ec_b5ab_2cf05db5fb9frow2_col12,#T_7d3252d4_cbc8_11ec_b5ab_2cf05db5fb9frow4_col1,#T_7d3252d4_cbc8_11ec_b5ab_2cf05db5fb9frow7_col0,#T_7d3252d4_cbc8_11ec_b5ab_2cf05db5fb9frow7_col2,#T_7d3252d4_cbc8_11ec_b5ab_2cf05db5fb9frow7_col5,#T_7d3252d4_cbc8_11ec_b5ab_2cf05db5fb9frow7_col8,#T_7d3252d4_cbc8_11ec_b5ab_2cf05db5fb9frow7_col9,#T_7d3252d4_cbc8_11ec_b5ab_2cf05db5fb9frow7_col10,#T_7d3252d4_cbc8_11ec_b5ab_2cf05db5fb9frow7_col11,#T_7d3252d4_cbc8_11ec_b5ab_2cf05db5fb9frow7_col12,#T_7d3252d4_cbc8_11ec_b5ab_2cf05db5fb9frow7_col13,#T_7d3252d4_cbc8_11ec_b5ab_2cf05db5fb9frow8_col2,#T_7d3252d4_cbc8_11ec_b5ab_2cf05db5fb9frow8_col10,#T_7d3252d4_cbc8_11ec_b5ab_2cf05db5fb9frow8_col12,#T_7d3252d4_cbc8_11ec_b5ab_2cf05db5fb9frow9_col2,#T_7d3252d4_cbc8_11ec_b5ab_2cf05db5fb9frow9_col10,#T_7d3252d4_cbc8_11ec_b5ab_2cf05db5fb9frow9_col12,#T_7d3252d4_cbc8_11ec_b5ab_2cf05db5fb9frow10_col2,#T_7d3252d4_cbc8_11ec_b5ab_2cf05db5fb9frow10_col12,#T_7d3252d4_cbc8_11ec_b5ab_2cf05db5fb9frow11_col2,#T_7d3252d4_cbc8_11ec_b5ab_2cf05db5fb9frow11_col12,#T_7d3252d4_cbc8_11ec_b5ab_2cf05db5fb9frow12_col2,#T_7d3252d4_cbc8_11ec_b5ab_2cf05db5fb9frow12_col10,#T_7d3252d4_cbc8_11ec_b5ab_2cf05db5fb9frow13_col2,#T_7d3252d4_cbc8_11ec_b5ab_2cf05db5fb9frow13_col6,#T_7d3252d4_cbc8_11ec_b5ab_2cf05db5fb9frow13_col7,#T_7d3252d4_cbc8_11ec_b5ab_2cf05db5fb9frow13_col10,#T_7d3252d4_cbc8_11ec_b5ab_2cf05db5fb9frow13_col12{\n",
       "            background-color:  #f7fbff;\n",
       "            color:  #000000;\n",
       "        }#T_7d3252d4_cbc8_11ec_b5ab_2cf05db5fb9frow1_col5{\n",
       "            background-color:  #ddeaf7;\n",
       "            color:  #000000;\n",
       "        }#T_7d3252d4_cbc8_11ec_b5ab_2cf05db5fb9frow1_col6,#T_7d3252d4_cbc8_11ec_b5ab_2cf05db5fb9frow5_col2{\n",
       "            background-color:  #bad6eb;\n",
       "            color:  #000000;\n",
       "        }#T_7d3252d4_cbc8_11ec_b5ab_2cf05db5fb9frow1_col7,#T_7d3252d4_cbc8_11ec_b5ab_2cf05db5fb9frow6_col8,#T_7d3252d4_cbc8_11ec_b5ab_2cf05db5fb9frow8_col9{\n",
       "            background-color:  #125da6;\n",
       "            color:  #f1f1f1;\n",
       "        }#T_7d3252d4_cbc8_11ec_b5ab_2cf05db5fb9frow1_col8{\n",
       "            background-color:  #3a8ac2;\n",
       "            color:  #000000;\n",
       "        }#T_7d3252d4_cbc8_11ec_b5ab_2cf05db5fb9frow1_col9{\n",
       "            background-color:  #4e9acb;\n",
       "            color:  #000000;\n",
       "        }#T_7d3252d4_cbc8_11ec_b5ab_2cf05db5fb9frow1_col10{\n",
       "            background-color:  #083e81;\n",
       "            color:  #f1f1f1;\n",
       "        }#T_7d3252d4_cbc8_11ec_b5ab_2cf05db5fb9frow1_col11,#T_7d3252d4_cbc8_11ec_b5ab_2cf05db5fb9frow6_col9{\n",
       "            background-color:  #79b5d9;\n",
       "            color:  #000000;\n",
       "        }#T_7d3252d4_cbc8_11ec_b5ab_2cf05db5fb9frow1_col13{\n",
       "            background-color:  #1966ad;\n",
       "            color:  #f1f1f1;\n",
       "        }#T_7d3252d4_cbc8_11ec_b5ab_2cf05db5fb9frow2_col0,#T_7d3252d4_cbc8_11ec_b5ab_2cf05db5fb9frow10_col0{\n",
       "            background-color:  #539ecd;\n",
       "            color:  #000000;\n",
       "        }#T_7d3252d4_cbc8_11ec_b5ab_2cf05db5fb9frow2_col1{\n",
       "            background-color:  #b2d2e8;\n",
       "            color:  #000000;\n",
       "        }#T_7d3252d4_cbc8_11ec_b5ab_2cf05db5fb9frow2_col3{\n",
       "            background-color:  #aacfe5;\n",
       "            color:  #000000;\n",
       "        }#T_7d3252d4_cbc8_11ec_b5ab_2cf05db5fb9frow2_col4{\n",
       "            background-color:  #1967ad;\n",
       "            color:  #f1f1f1;\n",
       "        }#T_7d3252d4_cbc8_11ec_b5ab_2cf05db5fb9frow2_col5{\n",
       "            background-color:  #82bbdb;\n",
       "            color:  #000000;\n",
       "        }#T_7d3252d4_cbc8_11ec_b5ab_2cf05db5fb9frow2_col6{\n",
       "            background-color:  #b0d2e7;\n",
       "            color:  #000000;\n",
       "        }#T_7d3252d4_cbc8_11ec_b5ab_2cf05db5fb9frow2_col7,#T_7d3252d4_cbc8_11ec_b5ab_2cf05db5fb9frow4_col7,#T_7d3252d4_cbc8_11ec_b5ab_2cf05db5fb9frow10_col7,#T_7d3252d4_cbc8_11ec_b5ab_2cf05db5fb9frow12_col7{\n",
       "            background-color:  #083877;\n",
       "            color:  #f1f1f1;\n",
       "        }#T_7d3252d4_cbc8_11ec_b5ab_2cf05db5fb9frow2_col8,#T_7d3252d4_cbc8_11ec_b5ab_2cf05db5fb9frow2_col13,#T_7d3252d4_cbc8_11ec_b5ab_2cf05db5fb9frow10_col8,#T_7d3252d4_cbc8_11ec_b5ab_2cf05db5fb9frow10_col13,#T_7d3252d4_cbc8_11ec_b5ab_2cf05db5fb9frow12_col8,#T_7d3252d4_cbc8_11ec_b5ab_2cf05db5fb9frow12_col13{\n",
       "            background-color:  #74b3d8;\n",
       "            color:  #000000;\n",
       "        }#T_7d3252d4_cbc8_11ec_b5ab_2cf05db5fb9frow2_col9,#T_7d3252d4_cbc8_11ec_b5ab_2cf05db5fb9frow10_col9,#T_7d3252d4_cbc8_11ec_b5ab_2cf05db5fb9frow12_col9{\n",
       "            background-color:  #7fb9da;\n",
       "            color:  #000000;\n",
       "        }#T_7d3252d4_cbc8_11ec_b5ab_2cf05db5fb9frow2_col11,#T_7d3252d4_cbc8_11ec_b5ab_2cf05db5fb9frow12_col11{\n",
       "            background-color:  #aed1e7;\n",
       "            color:  #000000;\n",
       "        }#T_7d3252d4_cbc8_11ec_b5ab_2cf05db5fb9frow3_col0{\n",
       "            background-color:  #083573;\n",
       "            color:  #f1f1f1;\n",
       "        }#T_7d3252d4_cbc8_11ec_b5ab_2cf05db5fb9frow3_col1{\n",
       "            background-color:  #d9e8f5;\n",
       "            color:  #000000;\n",
       "        }#T_7d3252d4_cbc8_11ec_b5ab_2cf05db5fb9frow3_col2{\n",
       "            background-color:  #e3eef8;\n",
       "            color:  #000000;\n",
       "        }#T_7d3252d4_cbc8_11ec_b5ab_2cf05db5fb9frow3_col4,#T_7d3252d4_cbc8_11ec_b5ab_2cf05db5fb9frow5_col12{\n",
       "            background-color:  #a5cde3;\n",
       "            color:  #000000;\n",
       "        }#T_7d3252d4_cbc8_11ec_b5ab_2cf05db5fb9frow3_col5{\n",
       "            background-color:  #63a8d3;\n",
       "            color:  #000000;\n",
       "        }#T_7d3252d4_cbc8_11ec_b5ab_2cf05db5fb9frow3_col6,#T_7d3252d4_cbc8_11ec_b5ab_2cf05db5fb9frow4_col5{\n",
       "            background-color:  #ecf4fb;\n",
       "            color:  #000000;\n",
       "        }#T_7d3252d4_cbc8_11ec_b5ab_2cf05db5fb9frow3_col7,#T_7d3252d4_cbc8_11ec_b5ab_2cf05db5fb9frow4_col0{\n",
       "            background-color:  #0c56a0;\n",
       "            color:  #f1f1f1;\n",
       "        }#T_7d3252d4_cbc8_11ec_b5ab_2cf05db5fb9frow3_col8{\n",
       "            background-color:  #57a0ce;\n",
       "            color:  #000000;\n",
       "        }#T_7d3252d4_cbc8_11ec_b5ab_2cf05db5fb9frow3_col9{\n",
       "            background-color:  #2f7fbc;\n",
       "            color:  #000000;\n",
       "        }#T_7d3252d4_cbc8_11ec_b5ab_2cf05db5fb9frow3_col10{\n",
       "            background-color:  #bed8ec;\n",
       "            color:  #000000;\n",
       "        }#T_7d3252d4_cbc8_11ec_b5ab_2cf05db5fb9frow3_col11{\n",
       "            background-color:  #8dc1dd;\n",
       "            color:  #000000;\n",
       "        }#T_7d3252d4_cbc8_11ec_b5ab_2cf05db5fb9frow3_col12{\n",
       "            background-color:  #d7e6f5;\n",
       "            color:  #000000;\n",
       "        }#T_7d3252d4_cbc8_11ec_b5ab_2cf05db5fb9frow3_col13,#T_7d3252d4_cbc8_11ec_b5ab_2cf05db5fb9frow12_col0{\n",
       "            background-color:  #3b8bc2;\n",
       "            color:  #000000;\n",
       "        }#T_7d3252d4_cbc8_11ec_b5ab_2cf05db5fb9frow4_col3{\n",
       "            background-color:  #5aa2cf;\n",
       "            color:  #000000;\n",
       "        }#T_7d3252d4_cbc8_11ec_b5ab_2cf05db5fb9frow4_col6{\n",
       "            background-color:  #f3f8fe;\n",
       "            color:  #000000;\n",
       "        }#T_7d3252d4_cbc8_11ec_b5ab_2cf05db5fb9frow4_col8{\n",
       "            background-color:  #5ba3d0;\n",
       "            color:  #000000;\n",
       "        }#T_7d3252d4_cbc8_11ec_b5ab_2cf05db5fb9frow4_col9{\n",
       "            background-color:  #6aaed6;\n",
       "            color:  #000000;\n",
       "        }#T_7d3252d4_cbc8_11ec_b5ab_2cf05db5fb9frow4_col11,#T_7d3252d4_cbc8_11ec_b5ab_2cf05db5fb9frow5_col13{\n",
       "            background-color:  #72b2d8;\n",
       "            color:  #000000;\n",
       "        }#T_7d3252d4_cbc8_11ec_b5ab_2cf05db5fb9frow4_col12{\n",
       "            background-color:  #bcd7eb;\n",
       "            color:  #000000;\n",
       "        }#T_7d3252d4_cbc8_11ec_b5ab_2cf05db5fb9frow4_col13{\n",
       "            background-color:  #549fcd;\n",
       "            color:  #000000;\n",
       "        }#T_7d3252d4_cbc8_11ec_b5ab_2cf05db5fb9frow5_col0{\n",
       "            background-color:  #2070b4;\n",
       "            color:  #f1f1f1;\n",
       "        }#T_7d3252d4_cbc8_11ec_b5ab_2cf05db5fb9frow5_col1{\n",
       "            background-color:  #c1d9ed;\n",
       "            color:  #000000;\n",
       "        }#T_7d3252d4_cbc8_11ec_b5ab_2cf05db5fb9frow5_col3{\n",
       "            background-color:  #3080bd;\n",
       "            color:  #000000;\n",
       "        }#T_7d3252d4_cbc8_11ec_b5ab_2cf05db5fb9frow5_col4{\n",
       "            background-color:  #cadef0;\n",
       "            color:  #000000;\n",
       "        }#T_7d3252d4_cbc8_11ec_b5ab_2cf05db5fb9frow5_col6{\n",
       "            background-color:  #3686c0;\n",
       "            color:  #000000;\n",
       "        }#T_7d3252d4_cbc8_11ec_b5ab_2cf05db5fb9frow5_col7{\n",
       "            background-color:  #083d7f;\n",
       "            color:  #f1f1f1;\n",
       "        }#T_7d3252d4_cbc8_11ec_b5ab_2cf05db5fb9frow5_col8{\n",
       "            background-color:  #75b4d8;\n",
       "            color:  #000000;\n",
       "        }#T_7d3252d4_cbc8_11ec_b5ab_2cf05db5fb9frow5_col9{\n",
       "            background-color:  #7ab6d9;\n",
       "            color:  #000000;\n",
       "        }#T_7d3252d4_cbc8_11ec_b5ab_2cf05db5fb9frow5_col10{\n",
       "            background-color:  #d0e1f2;\n",
       "            color:  #000000;\n",
       "        }#T_7d3252d4_cbc8_11ec_b5ab_2cf05db5fb9frow5_col11{\n",
       "            background-color:  #64a9d3;\n",
       "            color:  #000000;\n",
       "        }#T_7d3252d4_cbc8_11ec_b5ab_2cf05db5fb9frow6_col1{\n",
       "            background-color:  #94c4df;\n",
       "            color:  #000000;\n",
       "        }#T_7d3252d4_cbc8_11ec_b5ab_2cf05db5fb9frow6_col2{\n",
       "            background-color:  #afd1e7;\n",
       "            color:  #000000;\n",
       "        }#T_7d3252d4_cbc8_11ec_b5ab_2cf05db5fb9frow6_col3{\n",
       "            background-color:  #b9d6ea;\n",
       "            color:  #000000;\n",
       "        }#T_7d3252d4_cbc8_11ec_b5ab_2cf05db5fb9frow6_col4{\n",
       "            background-color:  #caddf0;\n",
       "            color:  #000000;\n",
       "        }#T_7d3252d4_cbc8_11ec_b5ab_2cf05db5fb9frow6_col10,#T_7d3252d4_cbc8_11ec_b5ab_2cf05db5fb9frow7_col3,#T_7d3252d4_cbc8_11ec_b5ab_2cf05db5fb9frow9_col5{\n",
       "            background-color:  #eef5fc;\n",
       "            color:  #000000;\n",
       "        }#T_7d3252d4_cbc8_11ec_b5ab_2cf05db5fb9frow6_col11{\n",
       "            background-color:  #3484bf;\n",
       "            color:  #000000;\n",
       "        }#T_7d3252d4_cbc8_11ec_b5ab_2cf05db5fb9frow6_col13{\n",
       "            background-color:  #71b1d7;\n",
       "            color:  #000000;\n",
       "        }#T_7d3252d4_cbc8_11ec_b5ab_2cf05db5fb9frow7_col4{\n",
       "            background-color:  #cde0f1;\n",
       "            color:  #000000;\n",
       "        }#T_7d3252d4_cbc8_11ec_b5ab_2cf05db5fb9frow8_col0{\n",
       "            background-color:  #2e7ebc;\n",
       "            color:  #000000;\n",
       "        }#T_7d3252d4_cbc8_11ec_b5ab_2cf05db5fb9frow8_col1{\n",
       "            background-color:  #9ac8e0;\n",
       "            color:  #000000;\n",
       "        }#T_7d3252d4_cbc8_11ec_b5ab_2cf05db5fb9frow8_col3,#T_7d3252d4_cbc8_11ec_b5ab_2cf05db5fb9frow12_col4{\n",
       "            background-color:  #9fcae1;\n",
       "            color:  #000000;\n",
       "        }#T_7d3252d4_cbc8_11ec_b5ab_2cf05db5fb9frow8_col4{\n",
       "            background-color:  #bdd7ec;\n",
       "            color:  #000000;\n",
       "        }#T_7d3252d4_cbc8_11ec_b5ab_2cf05db5fb9frow8_col5{\n",
       "            background-color:  #f4f9fe;\n",
       "            color:  #000000;\n",
       "        }#T_7d3252d4_cbc8_11ec_b5ab_2cf05db5fb9frow8_col6,#T_7d3252d4_cbc8_11ec_b5ab_2cf05db5fb9frow12_col5{\n",
       "            background-color:  #60a7d2;\n",
       "            color:  #000000;\n",
       "        }#T_7d3252d4_cbc8_11ec_b5ab_2cf05db5fb9frow8_col7{\n",
       "            background-color:  #e5eff9;\n",
       "            color:  #000000;\n",
       "        }#T_7d3252d4_cbc8_11ec_b5ab_2cf05db5fb9frow8_col11{\n",
       "            background-color:  #529dcc;\n",
       "            color:  #000000;\n",
       "        }#T_7d3252d4_cbc8_11ec_b5ab_2cf05db5fb9frow8_col13{\n",
       "            background-color:  #083c7d;\n",
       "            color:  #f1f1f1;\n",
       "        }#T_7d3252d4_cbc8_11ec_b5ab_2cf05db5fb9frow9_col0{\n",
       "            background-color:  #0e58a2;\n",
       "            color:  #f1f1f1;\n",
       "        }#T_7d3252d4_cbc8_11ec_b5ab_2cf05db5fb9frow9_col1{\n",
       "            background-color:  #a8cee4;\n",
       "            color:  #000000;\n",
       "        }#T_7d3252d4_cbc8_11ec_b5ab_2cf05db5fb9frow9_col3{\n",
       "            background-color:  #2979b9;\n",
       "            color:  #000000;\n",
       "        }#T_7d3252d4_cbc8_11ec_b5ab_2cf05db5fb9frow9_col4{\n",
       "            background-color:  #c4daee;\n",
       "            color:  #000000;\n",
       "        }#T_7d3252d4_cbc8_11ec_b5ab_2cf05db5fb9frow9_col7{\n",
       "            background-color:  #d5e5f4;\n",
       "            color:  #000000;\n",
       "        }#T_7d3252d4_cbc8_11ec_b5ab_2cf05db5fb9frow9_col8{\n",
       "            background-color:  #0f5aa3;\n",
       "            color:  #f1f1f1;\n",
       "        }#T_7d3252d4_cbc8_11ec_b5ab_2cf05db5fb9frow9_col11{\n",
       "            background-color:  #3e8ec4;\n",
       "            color:  #000000;\n",
       "        }#T_7d3252d4_cbc8_11ec_b5ab_2cf05db5fb9frow9_col13{\n",
       "            background-color:  #083b7c;\n",
       "            color:  #f1f1f1;\n",
       "        }#T_7d3252d4_cbc8_11ec_b5ab_2cf05db5fb9frow10_col3{\n",
       "            background-color:  #2171b5;\n",
       "            color:  #f1f1f1;\n",
       "        }#T_7d3252d4_cbc8_11ec_b5ab_2cf05db5fb9frow10_col6{\n",
       "            background-color:  #edf4fc;\n",
       "            color:  #000000;\n",
       "        }#T_7d3252d4_cbc8_11ec_b5ab_2cf05db5fb9frow10_col11{\n",
       "            background-color:  #81badb;\n",
       "            color:  #000000;\n",
       "        }#T_7d3252d4_cbc8_11ec_b5ab_2cf05db5fb9frow11_col1{\n",
       "            background-color:  #abd0e6;\n",
       "            color:  #000000;\n",
       "        }#T_7d3252d4_cbc8_11ec_b5ab_2cf05db5fb9frow11_col3{\n",
       "            background-color:  #a4cce3;\n",
       "            color:  #000000;\n",
       "        }#T_7d3252d4_cbc8_11ec_b5ab_2cf05db5fb9frow11_col4{\n",
       "            background-color:  #add0e6;\n",
       "            color:  #000000;\n",
       "        }#T_7d3252d4_cbc8_11ec_b5ab_2cf05db5fb9frow11_col5{\n",
       "            background-color:  #95c5df;\n",
       "            color:  #000000;\n",
       "        }#T_7d3252d4_cbc8_11ec_b5ab_2cf05db5fb9frow11_col6,#T_7d3252d4_cbc8_11ec_b5ab_2cf05db5fb9frow11_col7{\n",
       "            background-color:  #7db8da;\n",
       "            color:  #000000;\n",
       "        }#T_7d3252d4_cbc8_11ec_b5ab_2cf05db5fb9frow11_col8{\n",
       "            background-color:  #3181bd;\n",
       "            color:  #000000;\n",
       "        }#T_7d3252d4_cbc8_11ec_b5ab_2cf05db5fb9frow11_col10{\n",
       "            background-color:  #e1edf8;\n",
       "            color:  #000000;\n",
       "        }#T_7d3252d4_cbc8_11ec_b5ab_2cf05db5fb9frow12_col1{\n",
       "            background-color:  #cbdef1;\n",
       "            color:  #000000;\n",
       "        }#T_7d3252d4_cbc8_11ec_b5ab_2cf05db5fb9frow12_col3{\n",
       "            background-color:  #8abfdd;\n",
       "            color:  #000000;\n",
       "        }#T_7d3252d4_cbc8_11ec_b5ab_2cf05db5fb9frow13_col0{\n",
       "            background-color:  #084d96;\n",
       "            color:  #f1f1f1;\n",
       "        }#T_7d3252d4_cbc8_11ec_b5ab_2cf05db5fb9frow13_col1{\n",
       "            background-color:  #5fa6d1;\n",
       "            color:  #000000;\n",
       "        }#T_7d3252d4_cbc8_11ec_b5ab_2cf05db5fb9frow13_col3{\n",
       "            background-color:  #4594c7;\n",
       "            color:  #000000;\n",
       "        }#T_7d3252d4_cbc8_11ec_b5ab_2cf05db5fb9frow13_col4{\n",
       "            background-color:  #b7d4ea;\n",
       "            color:  #000000;\n",
       "        }</style><table id=\"T_7d3252d4_cbc8_11ec_b5ab_2cf05db5fb9f\" ><thead>    <tr>        <th class=\"blank level0\" ></th>        <th class=\"col_heading level0 col0\" >age</th>        <th class=\"col_heading level0 col1\" >sex</th>        <th class=\"col_heading level0 col2\" >cp</th>        <th class=\"col_heading level0 col3\" >trestbps</th>        <th class=\"col_heading level0 col4\" >chol</th>        <th class=\"col_heading level0 col5\" >fbs</th>        <th class=\"col_heading level0 col6\" >restecg</th>        <th class=\"col_heading level0 col7\" >thalach</th>        <th class=\"col_heading level0 col8\" >exang</th>        <th class=\"col_heading level0 col9\" >oldpeak</th>        <th class=\"col_heading level0 col10\" >slope</th>        <th class=\"col_heading level0 col11\" >ca</th>        <th class=\"col_heading level0 col12\" >thal</th>        <th class=\"col_heading level0 col13\" >condition</th>    </tr></thead><tbody>\n",
       "                <tr>\n",
       "                        <th id=\"T_7d3252d4_cbc8_11ec_b5ab_2cf05db5fb9flevel0_row0\" class=\"row_heading level0 row0\" >age</th>\n",
       "                        <td id=\"T_7d3252d4_cbc8_11ec_b5ab_2cf05db5fb9frow0_col0\" class=\"data row0 col0\" >nan</td>\n",
       "                        <td id=\"T_7d3252d4_cbc8_11ec_b5ab_2cf05db5fb9frow0_col1\" class=\"data row0 col1\" >-0.092399</td>\n",
       "                        <td id=\"T_7d3252d4_cbc8_11ec_b5ab_2cf05db5fb9frow0_col2\" class=\"data row0 col2\" >0.007116</td>\n",
       "                        <td id=\"T_7d3252d4_cbc8_11ec_b5ab_2cf05db5fb9frow0_col3\" class=\"data row0 col3\" >0.290476</td>\n",
       "                        <td id=\"T_7d3252d4_cbc8_11ec_b5ab_2cf05db5fb9frow0_col4\" class=\"data row0 col4\" >0.202644</td>\n",
       "                        <td id=\"T_7d3252d4_cbc8_11ec_b5ab_2cf05db5fb9frow0_col5\" class=\"data row0 col5\" >0.132062</td>\n",
       "                        <td id=\"T_7d3252d4_cbc8_11ec_b5ab_2cf05db5fb9frow0_col6\" class=\"data row0 col6\" >0.023811</td>\n",
       "                        <td id=\"T_7d3252d4_cbc8_11ec_b5ab_2cf05db5fb9frow0_col7\" class=\"data row0 col7\" >-0.394563</td>\n",
       "                        <td id=\"T_7d3252d4_cbc8_11ec_b5ab_2cf05db5fb9frow0_col8\" class=\"data row0 col8\" >0.096489</td>\n",
       "                        <td id=\"T_7d3252d4_cbc8_11ec_b5ab_2cf05db5fb9frow0_col9\" class=\"data row0 col9\" >0.197123</td>\n",
       "                        <td id=\"T_7d3252d4_cbc8_11ec_b5ab_2cf05db5fb9frow0_col10\" class=\"data row0 col10\" >0.005608</td>\n",
       "                        <td id=\"T_7d3252d4_cbc8_11ec_b5ab_2cf05db5fb9frow0_col11\" class=\"data row0 col11\" >0.305668</td>\n",
       "                        <td id=\"T_7d3252d4_cbc8_11ec_b5ab_2cf05db5fb9frow0_col12\" class=\"data row0 col12\" >0.060403</td>\n",
       "                        <td id=\"T_7d3252d4_cbc8_11ec_b5ab_2cf05db5fb9frow0_col13\" class=\"data row0 col13\" >0.227075</td>\n",
       "            </tr>\n",
       "            <tr>\n",
       "                        <th id=\"T_7d3252d4_cbc8_11ec_b5ab_2cf05db5fb9flevel0_row1\" class=\"row_heading level0 row1\" >sex</th>\n",
       "                        <td id=\"T_7d3252d4_cbc8_11ec_b5ab_2cf05db5fb9frow1_col0\" class=\"data row1 col0\" >-0.092399</td>\n",
       "                        <td id=\"T_7d3252d4_cbc8_11ec_b5ab_2cf05db5fb9frow1_col1\" class=\"data row1 col1\" >nan</td>\n",
       "                        <td id=\"T_7d3252d4_cbc8_11ec_b5ab_2cf05db5fb9frow1_col2\" class=\"data row1 col2\" >0.081719</td>\n",
       "                        <td id=\"T_7d3252d4_cbc8_11ec_b5ab_2cf05db5fb9frow1_col3\" class=\"data row1 col3\" >-0.066340</td>\n",
       "                        <td id=\"T_7d3252d4_cbc8_11ec_b5ab_2cf05db5fb9frow1_col4\" class=\"data row1 col4\" >-0.198089</td>\n",
       "                        <td id=\"T_7d3252d4_cbc8_11ec_b5ab_2cf05db5fb9frow1_col5\" class=\"data row1 col5\" >0.038850</td>\n",
       "                        <td id=\"T_7d3252d4_cbc8_11ec_b5ab_2cf05db5fb9frow1_col6\" class=\"data row1 col6\" >0.156814</td>\n",
       "                        <td id=\"T_7d3252d4_cbc8_11ec_b5ab_2cf05db5fb9frow1_col7\" class=\"data row1 col7\" >-0.060496</td>\n",
       "                        <td id=\"T_7d3252d4_cbc8_11ec_b5ab_2cf05db5fb9frow1_col8\" class=\"data row1 col8\" >0.143581</td>\n",
       "                        <td id=\"T_7d3252d4_cbc8_11ec_b5ab_2cf05db5fb9frow1_col9\" class=\"data row1 col9\" >0.106567</td>\n",
       "                        <td id=\"T_7d3252d4_cbc8_11ec_b5ab_2cf05db5fb9frow1_col10\" class=\"data row1 col10\" >0.687920</td>\n",
       "                        <td id=\"T_7d3252d4_cbc8_11ec_b5ab_2cf05db5fb9frow1_col11\" class=\"data row1 col11\" >0.097321</td>\n",
       "                        <td id=\"T_7d3252d4_cbc8_11ec_b5ab_2cf05db5fb9frow1_col12\" class=\"data row1 col12\" >0.000000</td>\n",
       "                        <td id=\"T_7d3252d4_cbc8_11ec_b5ab_2cf05db5fb9frow1_col13\" class=\"data row1 col13\" >0.278467</td>\n",
       "            </tr>\n",
       "            <tr>\n",
       "                        <th id=\"T_7d3252d4_cbc8_11ec_b5ab_2cf05db5fb9flevel0_row2\" class=\"row_heading level0 row2\" >cp</th>\n",
       "                        <td id=\"T_7d3252d4_cbc8_11ec_b5ab_2cf05db5fb9frow2_col0\" class=\"data row2 col0\" >0.007116</td>\n",
       "                        <td id=\"T_7d3252d4_cbc8_11ec_b5ab_2cf05db5fb9frow2_col1\" class=\"data row2 col1\" >0.081719</td>\n",
       "                        <td id=\"T_7d3252d4_cbc8_11ec_b5ab_2cf05db5fb9frow2_col2\" class=\"data row2 col2\" >nan</td>\n",
       "                        <td id=\"T_7d3252d4_cbc8_11ec_b5ab_2cf05db5fb9frow2_col3\" class=\"data row2 col3\" >0.054853</td>\n",
       "                        <td id=\"T_7d3252d4_cbc8_11ec_b5ab_2cf05db5fb9frow2_col4\" class=\"data row2 col4\" >0.533596</td>\n",
       "                        <td id=\"T_7d3252d4_cbc8_11ec_b5ab_2cf05db5fb9frow2_col5\" class=\"data row2 col5\" >0.152227</td>\n",
       "                        <td id=\"T_7d3252d4_cbc8_11ec_b5ab_2cf05db5fb9frow2_col6\" class=\"data row2 col6\" >0.171117</td>\n",
       "                        <td id=\"T_7d3252d4_cbc8_11ec_b5ab_2cf05db5fb9frow2_col7\" class=\"data row2 col7\" >0.000000</td>\n",
       "                        <td id=\"T_7d3252d4_cbc8_11ec_b5ab_2cf05db5fb9frow2_col8\" class=\"data row2 col8\" >0.000000</td>\n",
       "                        <td id=\"T_7d3252d4_cbc8_11ec_b5ab_2cf05db5fb9frow2_col9\" class=\"data row2 col9\" >0.000000</td>\n",
       "                        <td id=\"T_7d3252d4_cbc8_11ec_b5ab_2cf05db5fb9frow2_col10\" class=\"data row2 col10\" >0.000209</td>\n",
       "                        <td id=\"T_7d3252d4_cbc8_11ec_b5ab_2cf05db5fb9frow2_col11\" class=\"data row2 col11\" >0.000327</td>\n",
       "                        <td id=\"T_7d3252d4_cbc8_11ec_b5ab_2cf05db5fb9frow2_col12\" class=\"data row2 col12\" >0.000001</td>\n",
       "                        <td id=\"T_7d3252d4_cbc8_11ec_b5ab_2cf05db5fb9frow2_col13\" class=\"data row2 col13\" >0.000000</td>\n",
       "            </tr>\n",
       "            <tr>\n",
       "                        <th id=\"T_7d3252d4_cbc8_11ec_b5ab_2cf05db5fb9flevel0_row3\" class=\"row_heading level0 row3\" >trestbps</th>\n",
       "                        <td id=\"T_7d3252d4_cbc8_11ec_b5ab_2cf05db5fb9frow3_col0\" class=\"data row3 col0\" >0.290476</td>\n",
       "                        <td id=\"T_7d3252d4_cbc8_11ec_b5ab_2cf05db5fb9frow3_col1\" class=\"data row3 col1\" >-0.066340</td>\n",
       "                        <td id=\"T_7d3252d4_cbc8_11ec_b5ab_2cf05db5fb9frow3_col2\" class=\"data row3 col2\" >0.054853</td>\n",
       "                        <td id=\"T_7d3252d4_cbc8_11ec_b5ab_2cf05db5fb9frow3_col3\" class=\"data row3 col3\" >nan</td>\n",
       "                        <td id=\"T_7d3252d4_cbc8_11ec_b5ab_2cf05db5fb9frow3_col4\" class=\"data row3 col4\" >0.131536</td>\n",
       "                        <td id=\"T_7d3252d4_cbc8_11ec_b5ab_2cf05db5fb9frow3_col5\" class=\"data row3 col5\" >0.180860</td>\n",
       "                        <td id=\"T_7d3252d4_cbc8_11ec_b5ab_2cf05db5fb9frow3_col6\" class=\"data row3 col6\" >0.037536</td>\n",
       "                        <td id=\"T_7d3252d4_cbc8_11ec_b5ab_2cf05db5fb9frow3_col7\" class=\"data row3 col7\" >-0.049108</td>\n",
       "                        <td id=\"T_7d3252d4_cbc8_11ec_b5ab_2cf05db5fb9frow3_col8\" class=\"data row3 col8\" >0.066691</td>\n",
       "                        <td id=\"T_7d3252d4_cbc8_11ec_b5ab_2cf05db5fb9frow3_col9\" class=\"data row3 col9\" >0.191243</td>\n",
       "                        <td id=\"T_7d3252d4_cbc8_11ec_b5ab_2cf05db5fb9frow3_col10\" class=\"data row3 col10\" >0.200041</td>\n",
       "                        <td id=\"T_7d3252d4_cbc8_11ec_b5ab_2cf05db5fb9frow3_col11\" class=\"data row3 col11\" >0.061779</td>\n",
       "                        <td id=\"T_7d3252d4_cbc8_11ec_b5ab_2cf05db5fb9frow3_col12\" class=\"data row3 col12\" >0.085362</td>\n",
       "                        <td id=\"T_7d3252d4_cbc8_11ec_b5ab_2cf05db5fb9frow3_col13\" class=\"data row3 col13\" >0.153490</td>\n",
       "            </tr>\n",
       "            <tr>\n",
       "                        <th id=\"T_7d3252d4_cbc8_11ec_b5ab_2cf05db5fb9flevel0_row4\" class=\"row_heading level0 row4\" >chol</th>\n",
       "                        <td id=\"T_7d3252d4_cbc8_11ec_b5ab_2cf05db5fb9frow4_col0\" class=\"data row4 col0\" >0.202644</td>\n",
       "                        <td id=\"T_7d3252d4_cbc8_11ec_b5ab_2cf05db5fb9frow4_col1\" class=\"data row4 col1\" >-0.198089</td>\n",
       "                        <td id=\"T_7d3252d4_cbc8_11ec_b5ab_2cf05db5fb9frow4_col2\" class=\"data row4 col2\" >0.533596</td>\n",
       "                        <td id=\"T_7d3252d4_cbc8_11ec_b5ab_2cf05db5fb9frow4_col3\" class=\"data row4 col3\" >0.131536</td>\n",
       "                        <td id=\"T_7d3252d4_cbc8_11ec_b5ab_2cf05db5fb9frow4_col4\" class=\"data row4 col4\" >nan</td>\n",
       "                        <td id=\"T_7d3252d4_cbc8_11ec_b5ab_2cf05db5fb9frow4_col5\" class=\"data row4 col5\" >0.012708</td>\n",
       "                        <td id=\"T_7d3252d4_cbc8_11ec_b5ab_2cf05db5fb9frow4_col6\" class=\"data row4 col6\" >0.018789</td>\n",
       "                        <td id=\"T_7d3252d4_cbc8_11ec_b5ab_2cf05db5fb9frow4_col7\" class=\"data row4 col7\" >-0.000075</td>\n",
       "                        <td id=\"T_7d3252d4_cbc8_11ec_b5ab_2cf05db5fb9frow4_col8\" class=\"data row4 col8\" >0.059339</td>\n",
       "                        <td id=\"T_7d3252d4_cbc8_11ec_b5ab_2cf05db5fb9frow4_col9\" class=\"data row4 col9\" >0.038596</td>\n",
       "                        <td id=\"T_7d3252d4_cbc8_11ec_b5ab_2cf05db5fb9frow4_col10\" class=\"data row4 col10\" >0.729407</td>\n",
       "                        <td id=\"T_7d3252d4_cbc8_11ec_b5ab_2cf05db5fb9frow4_col11\" class=\"data row4 col11\" >0.106884</td>\n",
       "                        <td id=\"T_7d3252d4_cbc8_11ec_b5ab_2cf05db5fb9frow4_col12\" class=\"data row4 col12\" >0.147716</td>\n",
       "                        <td id=\"T_7d3252d4_cbc8_11ec_b5ab_2cf05db5fb9frow4_col13\" class=\"data row4 col13\" >0.080285</td>\n",
       "            </tr>\n",
       "            <tr>\n",
       "                        <th id=\"T_7d3252d4_cbc8_11ec_b5ab_2cf05db5fb9flevel0_row5\" class=\"row_heading level0 row5\" >fbs</th>\n",
       "                        <td id=\"T_7d3252d4_cbc8_11ec_b5ab_2cf05db5fb9frow5_col0\" class=\"data row5 col0\" >0.132062</td>\n",
       "                        <td id=\"T_7d3252d4_cbc8_11ec_b5ab_2cf05db5fb9frow5_col1\" class=\"data row5 col1\" >0.038850</td>\n",
       "                        <td id=\"T_7d3252d4_cbc8_11ec_b5ab_2cf05db5fb9frow5_col2\" class=\"data row5 col2\" >0.152227</td>\n",
       "                        <td id=\"T_7d3252d4_cbc8_11ec_b5ab_2cf05db5fb9frow5_col3\" class=\"data row5 col3\" >0.180860</td>\n",
       "                        <td id=\"T_7d3252d4_cbc8_11ec_b5ab_2cf05db5fb9frow5_col4\" class=\"data row5 col4\" >0.012708</td>\n",
       "                        <td id=\"T_7d3252d4_cbc8_11ec_b5ab_2cf05db5fb9frow5_col5\" class=\"data row5 col5\" >nan</td>\n",
       "                        <td id=\"T_7d3252d4_cbc8_11ec_b5ab_2cf05db5fb9frow5_col6\" class=\"data row5 col6\" >0.352177</td>\n",
       "                        <td id=\"T_7d3252d4_cbc8_11ec_b5ab_2cf05db5fb9frow5_col7\" class=\"data row5 col7\" >-0.007842</td>\n",
       "                        <td id=\"T_7d3252d4_cbc8_11ec_b5ab_2cf05db5fb9frow5_col8\" class=\"data row5 col8\" >-0.000893</td>\n",
       "                        <td id=\"T_7d3252d4_cbc8_11ec_b5ab_2cf05db5fb9frow5_col9\" class=\"data row5 col9\" >0.008311</td>\n",
       "                        <td id=\"T_7d3252d4_cbc8_11ec_b5ab_2cf05db5fb9frow5_col10\" class=\"data row5 col10\" >0.147311</td>\n",
       "                        <td id=\"T_7d3252d4_cbc8_11ec_b5ab_2cf05db5fb9frow5_col11\" class=\"data row5 col11\" >0.135596</td>\n",
       "                        <td id=\"T_7d3252d4_cbc8_11ec_b5ab_2cf05db5fb9frow5_col12\" class=\"data row5 col12\" >0.184675</td>\n",
       "                        <td id=\"T_7d3252d4_cbc8_11ec_b5ab_2cf05db5fb9frow5_col13\" class=\"data row5 col13\" >0.003167</td>\n",
       "            </tr>\n",
       "            <tr>\n",
       "                        <th id=\"T_7d3252d4_cbc8_11ec_b5ab_2cf05db5fb9flevel0_row6\" class=\"row_heading level0 row6\" >restecg</th>\n",
       "                        <td id=\"T_7d3252d4_cbc8_11ec_b5ab_2cf05db5fb9frow6_col0\" class=\"data row6 col0\" >0.023811</td>\n",
       "                        <td id=\"T_7d3252d4_cbc8_11ec_b5ab_2cf05db5fb9frow6_col1\" class=\"data row6 col1\" >0.156814</td>\n",
       "                        <td id=\"T_7d3252d4_cbc8_11ec_b5ab_2cf05db5fb9frow6_col2\" class=\"data row6 col2\" >0.171117</td>\n",
       "                        <td id=\"T_7d3252d4_cbc8_11ec_b5ab_2cf05db5fb9frow6_col3\" class=\"data row6 col3\" >0.037536</td>\n",
       "                        <td id=\"T_7d3252d4_cbc8_11ec_b5ab_2cf05db5fb9frow6_col4\" class=\"data row6 col4\" >0.018789</td>\n",
       "                        <td id=\"T_7d3252d4_cbc8_11ec_b5ab_2cf05db5fb9frow6_col5\" class=\"data row6 col5\" >0.352177</td>\n",
       "                        <td id=\"T_7d3252d4_cbc8_11ec_b5ab_2cf05db5fb9frow6_col6\" class=\"data row6 col6\" >nan</td>\n",
       "                        <td id=\"T_7d3252d4_cbc8_11ec_b5ab_2cf05db5fb9frow6_col7\" class=\"data row6 col7\" >0.015157</td>\n",
       "                        <td id=\"T_7d3252d4_cbc8_11ec_b5ab_2cf05db5fb9frow6_col8\" class=\"data row6 col8\" >0.281420</td>\n",
       "                        <td id=\"T_7d3252d4_cbc8_11ec_b5ab_2cf05db5fb9frow6_col9\" class=\"data row6 col9\" >0.011690</td>\n",
       "                        <td id=\"T_7d3252d4_cbc8_11ec_b5ab_2cf05db5fb9frow6_col10\" class=\"data row6 col10\" >0.034943</td>\n",
       "                        <td id=\"T_7d3252d4_cbc8_11ec_b5ab_2cf05db5fb9frow6_col11\" class=\"data row6 col11\" >0.241734</td>\n",
       "                        <td id=\"T_7d3252d4_cbc8_11ec_b5ab_2cf05db5fb9frow6_col12\" class=\"data row6 col12\" >0.521984</td>\n",
       "                        <td id=\"T_7d3252d4_cbc8_11ec_b5ab_2cf05db5fb9frow6_col13\" class=\"data row6 col13\" >0.008467</td>\n",
       "            </tr>\n",
       "            <tr>\n",
       "                        <th id=\"T_7d3252d4_cbc8_11ec_b5ab_2cf05db5fb9flevel0_row7\" class=\"row_heading level0 row7\" >thalach</th>\n",
       "                        <td id=\"T_7d3252d4_cbc8_11ec_b5ab_2cf05db5fb9frow7_col0\" class=\"data row7 col0\" >-0.394563</td>\n",
       "                        <td id=\"T_7d3252d4_cbc8_11ec_b5ab_2cf05db5fb9frow7_col1\" class=\"data row7 col1\" >-0.060496</td>\n",
       "                        <td id=\"T_7d3252d4_cbc8_11ec_b5ab_2cf05db5fb9frow7_col2\" class=\"data row7 col2\" >0.000000</td>\n",
       "                        <td id=\"T_7d3252d4_cbc8_11ec_b5ab_2cf05db5fb9frow7_col3\" class=\"data row7 col3\" >-0.049108</td>\n",
       "                        <td id=\"T_7d3252d4_cbc8_11ec_b5ab_2cf05db5fb9frow7_col4\" class=\"data row7 col4\" >-0.000075</td>\n",
       "                        <td id=\"T_7d3252d4_cbc8_11ec_b5ab_2cf05db5fb9frow7_col5\" class=\"data row7 col5\" >-0.007842</td>\n",
       "                        <td id=\"T_7d3252d4_cbc8_11ec_b5ab_2cf05db5fb9frow7_col6\" class=\"data row7 col6\" >0.015157</td>\n",
       "                        <td id=\"T_7d3252d4_cbc8_11ec_b5ab_2cf05db5fb9frow7_col7\" class=\"data row7 col7\" >nan</td>\n",
       "                        <td id=\"T_7d3252d4_cbc8_11ec_b5ab_2cf05db5fb9frow7_col8\" class=\"data row7 col8\" >-0.384368</td>\n",
       "                        <td id=\"T_7d3252d4_cbc8_11ec_b5ab_2cf05db5fb9frow7_col9\" class=\"data row7 col9\" >-0.347640</td>\n",
       "                        <td id=\"T_7d3252d4_cbc8_11ec_b5ab_2cf05db5fb9frow7_col10\" class=\"data row7 col10\" >0.000000</td>\n",
       "                        <td id=\"T_7d3252d4_cbc8_11ec_b5ab_2cf05db5fb9frow7_col11\" class=\"data row7 col11\" >-0.224522</td>\n",
       "                        <td id=\"T_7d3252d4_cbc8_11ec_b5ab_2cf05db5fb9frow7_col12\" class=\"data row7 col12\" >0.000000</td>\n",
       "                        <td id=\"T_7d3252d4_cbc8_11ec_b5ab_2cf05db5fb9frow7_col13\" class=\"data row7 col13\" >-0.423817</td>\n",
       "            </tr>\n",
       "            <tr>\n",
       "                        <th id=\"T_7d3252d4_cbc8_11ec_b5ab_2cf05db5fb9flevel0_row8\" class=\"row_heading level0 row8\" >exang</th>\n",
       "                        <td id=\"T_7d3252d4_cbc8_11ec_b5ab_2cf05db5fb9frow8_col0\" class=\"data row8 col0\" >0.096489</td>\n",
       "                        <td id=\"T_7d3252d4_cbc8_11ec_b5ab_2cf05db5fb9frow8_col1\" class=\"data row8 col1\" >0.143581</td>\n",
       "                        <td id=\"T_7d3252d4_cbc8_11ec_b5ab_2cf05db5fb9frow8_col2\" class=\"data row8 col2\" >0.000000</td>\n",
       "                        <td id=\"T_7d3252d4_cbc8_11ec_b5ab_2cf05db5fb9frow8_col3\" class=\"data row8 col3\" >0.066691</td>\n",
       "                        <td id=\"T_7d3252d4_cbc8_11ec_b5ab_2cf05db5fb9frow8_col4\" class=\"data row8 col4\" >0.059339</td>\n",
       "                        <td id=\"T_7d3252d4_cbc8_11ec_b5ab_2cf05db5fb9frow8_col5\" class=\"data row8 col5\" >-0.000893</td>\n",
       "                        <td id=\"T_7d3252d4_cbc8_11ec_b5ab_2cf05db5fb9frow8_col6\" class=\"data row8 col6\" >0.281420</td>\n",
       "                        <td id=\"T_7d3252d4_cbc8_11ec_b5ab_2cf05db5fb9frow8_col7\" class=\"data row8 col7\" >-0.384368</td>\n",
       "                        <td id=\"T_7d3252d4_cbc8_11ec_b5ab_2cf05db5fb9frow8_col8\" class=\"data row8 col8\" >nan</td>\n",
       "                        <td id=\"T_7d3252d4_cbc8_11ec_b5ab_2cf05db5fb9frow8_col9\" class=\"data row8 col9\" >0.289310</td>\n",
       "                        <td id=\"T_7d3252d4_cbc8_11ec_b5ab_2cf05db5fb9frow8_col10\" class=\"data row8 col10\" >0.000010</td>\n",
       "                        <td id=\"T_7d3252d4_cbc8_11ec_b5ab_2cf05db5fb9frow8_col11\" class=\"data row8 col11\" >0.171783</td>\n",
       "                        <td id=\"T_7d3252d4_cbc8_11ec_b5ab_2cf05db5fb9frow8_col12\" class=\"data row8 col12\" >0.000000</td>\n",
       "                        <td id=\"T_7d3252d4_cbc8_11ec_b5ab_2cf05db5fb9frow8_col13\" class=\"data row8 col13\" >0.421355</td>\n",
       "            </tr>\n",
       "            <tr>\n",
       "                        <th id=\"T_7d3252d4_cbc8_11ec_b5ab_2cf05db5fb9flevel0_row9\" class=\"row_heading level0 row9\" >oldpeak</th>\n",
       "                        <td id=\"T_7d3252d4_cbc8_11ec_b5ab_2cf05db5fb9frow9_col0\" class=\"data row9 col0\" >0.197123</td>\n",
       "                        <td id=\"T_7d3252d4_cbc8_11ec_b5ab_2cf05db5fb9frow9_col1\" class=\"data row9 col1\" >0.106567</td>\n",
       "                        <td id=\"T_7d3252d4_cbc8_11ec_b5ab_2cf05db5fb9frow9_col2\" class=\"data row9 col2\" >0.000000</td>\n",
       "                        <td id=\"T_7d3252d4_cbc8_11ec_b5ab_2cf05db5fb9frow9_col3\" class=\"data row9 col3\" >0.191243</td>\n",
       "                        <td id=\"T_7d3252d4_cbc8_11ec_b5ab_2cf05db5fb9frow9_col4\" class=\"data row9 col4\" >0.038596</td>\n",
       "                        <td id=\"T_7d3252d4_cbc8_11ec_b5ab_2cf05db5fb9frow9_col5\" class=\"data row9 col5\" >0.008311</td>\n",
       "                        <td id=\"T_7d3252d4_cbc8_11ec_b5ab_2cf05db5fb9frow9_col6\" class=\"data row9 col6\" >0.011690</td>\n",
       "                        <td id=\"T_7d3252d4_cbc8_11ec_b5ab_2cf05db5fb9frow9_col7\" class=\"data row9 col7\" >-0.347640</td>\n",
       "                        <td id=\"T_7d3252d4_cbc8_11ec_b5ab_2cf05db5fb9frow9_col8\" class=\"data row9 col8\" >0.289310</td>\n",
       "                        <td id=\"T_7d3252d4_cbc8_11ec_b5ab_2cf05db5fb9frow9_col9\" class=\"data row9 col9\" >nan</td>\n",
       "                        <td id=\"T_7d3252d4_cbc8_11ec_b5ab_2cf05db5fb9frow9_col10\" class=\"data row9 col10\" >0.000000</td>\n",
       "                        <td id=\"T_7d3252d4_cbc8_11ec_b5ab_2cf05db5fb9frow9_col11\" class=\"data row9 col11\" >0.216070</td>\n",
       "                        <td id=\"T_7d3252d4_cbc8_11ec_b5ab_2cf05db5fb9frow9_col12\" class=\"data row9 col12\" >0.000000</td>\n",
       "                        <td id=\"T_7d3252d4_cbc8_11ec_b5ab_2cf05db5fb9frow9_col13\" class=\"data row9 col13\" >0.424052</td>\n",
       "            </tr>\n",
       "            <tr>\n",
       "                        <th id=\"T_7d3252d4_cbc8_11ec_b5ab_2cf05db5fb9flevel0_row10\" class=\"row_heading level0 row10\" >slope</th>\n",
       "                        <td id=\"T_7d3252d4_cbc8_11ec_b5ab_2cf05db5fb9frow10_col0\" class=\"data row10 col0\" >0.005608</td>\n",
       "                        <td id=\"T_7d3252d4_cbc8_11ec_b5ab_2cf05db5fb9frow10_col1\" class=\"data row10 col1\" >0.687920</td>\n",
       "                        <td id=\"T_7d3252d4_cbc8_11ec_b5ab_2cf05db5fb9frow10_col2\" class=\"data row10 col2\" >0.000209</td>\n",
       "                        <td id=\"T_7d3252d4_cbc8_11ec_b5ab_2cf05db5fb9frow10_col3\" class=\"data row10 col3\" >0.200041</td>\n",
       "                        <td id=\"T_7d3252d4_cbc8_11ec_b5ab_2cf05db5fb9frow10_col4\" class=\"data row10 col4\" >0.729407</td>\n",
       "                        <td id=\"T_7d3252d4_cbc8_11ec_b5ab_2cf05db5fb9frow10_col5\" class=\"data row10 col5\" >0.147311</td>\n",
       "                        <td id=\"T_7d3252d4_cbc8_11ec_b5ab_2cf05db5fb9frow10_col6\" class=\"data row10 col6\" >0.034943</td>\n",
       "                        <td id=\"T_7d3252d4_cbc8_11ec_b5ab_2cf05db5fb9frow10_col7\" class=\"data row10 col7\" >0.000000</td>\n",
       "                        <td id=\"T_7d3252d4_cbc8_11ec_b5ab_2cf05db5fb9frow10_col8\" class=\"data row10 col8\" >0.000010</td>\n",
       "                        <td id=\"T_7d3252d4_cbc8_11ec_b5ab_2cf05db5fb9frow10_col9\" class=\"data row10 col9\" >0.000000</td>\n",
       "                        <td id=\"T_7d3252d4_cbc8_11ec_b5ab_2cf05db5fb9frow10_col10\" class=\"data row10 col10\" >nan</td>\n",
       "                        <td id=\"T_7d3252d4_cbc8_11ec_b5ab_2cf05db5fb9frow10_col11\" class=\"data row10 col11\" >0.082279</td>\n",
       "                        <td id=\"T_7d3252d4_cbc8_11ec_b5ab_2cf05db5fb9frow10_col12\" class=\"data row10 col12\" >0.000001</td>\n",
       "                        <td id=\"T_7d3252d4_cbc8_11ec_b5ab_2cf05db5fb9frow10_col13\" class=\"data row10 col13\" >0.000000</td>\n",
       "            </tr>\n",
       "            <tr>\n",
       "                        <th id=\"T_7d3252d4_cbc8_11ec_b5ab_2cf05db5fb9flevel0_row11\" class=\"row_heading level0 row11\" >ca</th>\n",
       "                        <td id=\"T_7d3252d4_cbc8_11ec_b5ab_2cf05db5fb9frow11_col0\" class=\"data row11 col0\" >0.305668</td>\n",
       "                        <td id=\"T_7d3252d4_cbc8_11ec_b5ab_2cf05db5fb9frow11_col1\" class=\"data row11 col1\" >0.097321</td>\n",
       "                        <td id=\"T_7d3252d4_cbc8_11ec_b5ab_2cf05db5fb9frow11_col2\" class=\"data row11 col2\" >0.000327</td>\n",
       "                        <td id=\"T_7d3252d4_cbc8_11ec_b5ab_2cf05db5fb9frow11_col3\" class=\"data row11 col3\" >0.061779</td>\n",
       "                        <td id=\"T_7d3252d4_cbc8_11ec_b5ab_2cf05db5fb9frow11_col4\" class=\"data row11 col4\" >0.106884</td>\n",
       "                        <td id=\"T_7d3252d4_cbc8_11ec_b5ab_2cf05db5fb9frow11_col5\" class=\"data row11 col5\" >0.135596</td>\n",
       "                        <td id=\"T_7d3252d4_cbc8_11ec_b5ab_2cf05db5fb9frow11_col6\" class=\"data row11 col6\" >0.241734</td>\n",
       "                        <td id=\"T_7d3252d4_cbc8_11ec_b5ab_2cf05db5fb9frow11_col7\" class=\"data row11 col7\" >-0.224522</td>\n",
       "                        <td id=\"T_7d3252d4_cbc8_11ec_b5ab_2cf05db5fb9frow11_col8\" class=\"data row11 col8\" >0.171783</td>\n",
       "                        <td id=\"T_7d3252d4_cbc8_11ec_b5ab_2cf05db5fb9frow11_col9\" class=\"data row11 col9\" >0.216070</td>\n",
       "                        <td id=\"T_7d3252d4_cbc8_11ec_b5ab_2cf05db5fb9frow11_col10\" class=\"data row11 col10\" >0.082279</td>\n",
       "                        <td id=\"T_7d3252d4_cbc8_11ec_b5ab_2cf05db5fb9frow11_col11\" class=\"data row11 col11\" >nan</td>\n",
       "                        <td id=\"T_7d3252d4_cbc8_11ec_b5ab_2cf05db5fb9frow11_col12\" class=\"data row11 col12\" >0.001149</td>\n",
       "                        <td id=\"T_7d3252d4_cbc8_11ec_b5ab_2cf05db5fb9frow11_col13\" class=\"data row11 col13\" >0.464186</td>\n",
       "            </tr>\n",
       "            <tr>\n",
       "                        <th id=\"T_7d3252d4_cbc8_11ec_b5ab_2cf05db5fb9flevel0_row12\" class=\"row_heading level0 row12\" >thal</th>\n",
       "                        <td id=\"T_7d3252d4_cbc8_11ec_b5ab_2cf05db5fb9frow12_col0\" class=\"data row12 col0\" >0.060403</td>\n",
       "                        <td id=\"T_7d3252d4_cbc8_11ec_b5ab_2cf05db5fb9frow12_col1\" class=\"data row12 col1\" >0.000000</td>\n",
       "                        <td id=\"T_7d3252d4_cbc8_11ec_b5ab_2cf05db5fb9frow12_col2\" class=\"data row12 col2\" >0.000001</td>\n",
       "                        <td id=\"T_7d3252d4_cbc8_11ec_b5ab_2cf05db5fb9frow12_col3\" class=\"data row12 col3\" >0.085362</td>\n",
       "                        <td id=\"T_7d3252d4_cbc8_11ec_b5ab_2cf05db5fb9frow12_col4\" class=\"data row12 col4\" >0.147716</td>\n",
       "                        <td id=\"T_7d3252d4_cbc8_11ec_b5ab_2cf05db5fb9frow12_col5\" class=\"data row12 col5\" >0.184675</td>\n",
       "                        <td id=\"T_7d3252d4_cbc8_11ec_b5ab_2cf05db5fb9frow12_col6\" class=\"data row12 col6\" >0.521984</td>\n",
       "                        <td id=\"T_7d3252d4_cbc8_11ec_b5ab_2cf05db5fb9frow12_col7\" class=\"data row12 col7\" >0.000000</td>\n",
       "                        <td id=\"T_7d3252d4_cbc8_11ec_b5ab_2cf05db5fb9frow12_col8\" class=\"data row12 col8\" >0.000000</td>\n",
       "                        <td id=\"T_7d3252d4_cbc8_11ec_b5ab_2cf05db5fb9frow12_col9\" class=\"data row12 col9\" >0.000000</td>\n",
       "                        <td id=\"T_7d3252d4_cbc8_11ec_b5ab_2cf05db5fb9frow12_col10\" class=\"data row12 col10\" >0.000001</td>\n",
       "                        <td id=\"T_7d3252d4_cbc8_11ec_b5ab_2cf05db5fb9frow12_col11\" class=\"data row12 col11\" >0.001149</td>\n",
       "                        <td id=\"T_7d3252d4_cbc8_11ec_b5ab_2cf05db5fb9frow12_col12\" class=\"data row12 col12\" >nan</td>\n",
       "                        <td id=\"T_7d3252d4_cbc8_11ec_b5ab_2cf05db5fb9frow12_col13\" class=\"data row12 col13\" >0.000000</td>\n",
       "            </tr>\n",
       "            <tr>\n",
       "                        <th id=\"T_7d3252d4_cbc8_11ec_b5ab_2cf05db5fb9flevel0_row13\" class=\"row_heading level0 row13\" >condition</th>\n",
       "                        <td id=\"T_7d3252d4_cbc8_11ec_b5ab_2cf05db5fb9frow13_col0\" class=\"data row13 col0\" >0.227075</td>\n",
       "                        <td id=\"T_7d3252d4_cbc8_11ec_b5ab_2cf05db5fb9frow13_col1\" class=\"data row13 col1\" >0.278467</td>\n",
       "                        <td id=\"T_7d3252d4_cbc8_11ec_b5ab_2cf05db5fb9frow13_col2\" class=\"data row13 col2\" >0.000000</td>\n",
       "                        <td id=\"T_7d3252d4_cbc8_11ec_b5ab_2cf05db5fb9frow13_col3\" class=\"data row13 col3\" >0.153490</td>\n",
       "                        <td id=\"T_7d3252d4_cbc8_11ec_b5ab_2cf05db5fb9frow13_col4\" class=\"data row13 col4\" >0.080285</td>\n",
       "                        <td id=\"T_7d3252d4_cbc8_11ec_b5ab_2cf05db5fb9frow13_col5\" class=\"data row13 col5\" >0.003167</td>\n",
       "                        <td id=\"T_7d3252d4_cbc8_11ec_b5ab_2cf05db5fb9frow13_col6\" class=\"data row13 col6\" >0.008467</td>\n",
       "                        <td id=\"T_7d3252d4_cbc8_11ec_b5ab_2cf05db5fb9frow13_col7\" class=\"data row13 col7\" >-0.423817</td>\n",
       "                        <td id=\"T_7d3252d4_cbc8_11ec_b5ab_2cf05db5fb9frow13_col8\" class=\"data row13 col8\" >0.421355</td>\n",
       "                        <td id=\"T_7d3252d4_cbc8_11ec_b5ab_2cf05db5fb9frow13_col9\" class=\"data row13 col9\" >0.424052</td>\n",
       "                        <td id=\"T_7d3252d4_cbc8_11ec_b5ab_2cf05db5fb9frow13_col10\" class=\"data row13 col10\" >0.000000</td>\n",
       "                        <td id=\"T_7d3252d4_cbc8_11ec_b5ab_2cf05db5fb9frow13_col11\" class=\"data row13 col11\" >0.464186</td>\n",
       "                        <td id=\"T_7d3252d4_cbc8_11ec_b5ab_2cf05db5fb9frow13_col12\" class=\"data row13 col12\" >0.000000</td>\n",
       "                        <td id=\"T_7d3252d4_cbc8_11ec_b5ab_2cf05db5fb9frow13_col13\" class=\"data row13 col13\" >nan</td>\n",
       "            </tr>\n",
       "    </tbody></table>"
      ]
     },
     "metadata": {},
     "execution_count": 20
    }
   ]
  },
  {
   "cell_type": "markdown",
   "source": [
    "#Logit"
   ],
   "metadata": {
    "id": "APIbUN4U76Ak",
    "pycharm": {
     "name": "#%% md\n"
    }
   }
  },
  {
   "cell_type": "code",
   "source": [
    "def prepro(data, columns=data.columns, norm=True, pca=False, n_comp=10):\n",
    "  one_hot = set(['cp', 'slope', 'thal', 'restecg']) & set(columns)\n",
    "  y = data['condition'].copy()\n",
    "  X = data[columns].copy()\n",
    "  X.drop(columns=['condition'], inplace=True)\n",
    "  for col in one_hot:\n",
    "    dummies = pd.get_dummies(X[col], prefix=f'{col}_')\n",
    "    X = X.join(dummies)\n",
    "  X.drop(columns=one_hot, inplace=True)\n",
    "\n",
    "  if norm:\n",
    "    to_norm = list(set(['age', 'trestbps', 'chol', 'thalach', 'oldpeak', 'ca']) & set(columns))\n",
    "    X[to_norm] = ((X[to_norm] - X[to_norm].mean(axis=0)) / (X[to_norm].var(axis=0))**(1/2))\n",
    "\n",
    "  if pca:\n",
    "    Pca = PCA(n_components=n_comp)\n",
    "    X = Pca.fit_transform(X)\n",
    "\n",
    "  return train_test_split(X, y, random_state=0, shuffle=True)"
   ],
   "metadata": {
    "id": "cNQiBhQFSIPp",
    "pycharm": {
     "name": "#%%\n"
    }
   },
   "execution_count": null,
   "outputs": []
  },
  {
   "cell_type": "code",
   "source": [
    "coefficients = pd.DataFrame(index=data.columns)\n",
    "coefficients['corr'] = correlations_table['condition']\n",
    "coefficients.drop(index=['condition'], inplace=True)"
   ],
   "metadata": {
    "id": "RyuZAwkZaxbY",
    "pycharm": {
     "name": "#%%\n"
    }
   },
   "execution_count": null,
   "outputs": []
  },
  {
   "cell_type": "code",
   "source": [
    "def model_pipeline(model, X_train, X_test, y_train, y_test):\n",
    "  model.fit(X_train, y_train)\n",
    "  preds = model.predict(X_test)\n",
    "  prec = precision_score(y_test, preds)\n",
    "  accur = accuracy_score(y_test, preds)\n",
    "  rocauc = roc_auc_score(y_test, preds)\n",
    "  recall = recall_score(y_test, preds)\n",
    "  return model, prec, accur, rocauc, recall"
   ],
   "metadata": {
    "id": "VugQdSnMac7c",
    "pycharm": {
     "name": "#%%\n"
    }
   },
   "execution_count": null,
   "outputs": []
  },
  {
   "cell_type": "code",
   "source": [
    "# логрег с l2\n",
    "X_train, X_test, y_train, y_test = prepro(data)\n",
    "logreg = LogisticRegression(penalty='l2', solver='liblinear')\n",
    "logreg, prec, accur, rocauc, recall = model_pipeline(logreg, X_train, X_test, y_train, y_test)\n",
    "coef = dict(zip(X_train.columns, *logreg.coef_))\n",
    "coefs = pd.Series(coef, name='l2_full_С1')\n",
    "coefficients = coefficients.join(coefs, how='outer')\n",
    "print(f'precision: {prec}, accuracy: {accur}, recall: {recall}, roc auc: {rocauc}')"
   ],
   "metadata": {
    "colab": {
     "base_uri": "https://localhost:8080/"
    },
    "id": "ZBTcOhz7J3sk",
    "outputId": "f850e167-dea6-448e-f92a-36cb72d72393",
    "pycharm": {
     "name": "#%%\n"
    }
   },
   "execution_count": null,
   "outputs": [
    {
     "output_type": "stream",
     "name": "stdout",
     "text": [
      "precision: 0.8947368421052632, accuracy: 0.8533333333333334, recall: 0.8292682926829268, roc auc: 0.8558106169296986\n"
     ]
    }
   ]
  },
  {
   "cell_type": "code",
   "source": [
    "# логрег с l1\n",
    "logreg = LogisticRegression(penalty='l1', solver='liblinear')\n",
    "logreg, prec, accur, rocauc, recall = model_pipeline(logreg, X_train, X_test, y_train, y_test)\n",
    "coef = dict(zip(X_train.columns, *logreg.coef_))\n",
    "coefs = pd.Series(coef, name='l1_full_С1')\n",
    "coefficients = coefficients.join(coefs, how='outer')\n",
    "print(f'precision: {prec}, accuracy: {accur}, recall: {recall}, roc auc: {rocauc}')"
   ],
   "metadata": {
    "colab": {
     "base_uri": "https://localhost:8080/"
    },
    "id": "MsXm1t9AQCsD",
    "outputId": "5e578371-ef64-4e95-aa38-62dc9beeb62e",
    "pycharm": {
     "name": "#%%\n"
    }
   },
   "execution_count": null,
   "outputs": [
    {
     "output_type": "stream",
     "name": "stdout",
     "text": [
      "precision: 0.8717948717948718, accuracy: 0.84, recall: 0.8292682926829268, roc auc: 0.8411047345767575\n"
     ]
    }
   ]
  },
  {
   "cell_type": "code",
   "source": [
    "# удалим скоррелированные признаки, l2\n",
    "corr_deleted = list(set(data.columns) - set(['age', 'exang', 'chol', 'fbs', 'thalach']))\n",
    "X_train, X_test, y_train, y_test = prepro(data, corr_deleted)\n",
    "logreg = LogisticRegression(penalty='l2', solver='liblinear')\n",
    "logreg, prec, accur, rocauc, recall = model_pipeline(logreg, X_train, X_test, y_train, y_test)\n",
    "coef = dict(zip(X_train.columns, *logreg.coef_))\n",
    "coefs = pd.Series(coef, name='l2_corr_deleted_С1')\n",
    "coefficients = coefficients.join(coefs, how='outer')\n",
    "print(f'precision: {prec}, accuracy: {accur}, recall: {recall}, roc auc: {rocauc}')"
   ],
   "metadata": {
    "colab": {
     "base_uri": "https://localhost:8080/"
    },
    "id": "mx14xqE_Q7DS",
    "outputId": "d21e3d2c-4253-4a76-f022-ed51453c8bfa",
    "pycharm": {
     "name": "#%%\n"
    }
   },
   "execution_count": null,
   "outputs": [
    {
     "output_type": "stream",
     "name": "stdout",
     "text": [
      "precision: 0.8974358974358975, accuracy: 0.8666666666666667, recall: 0.8536585365853658, roc auc: 0.8680057388809181\n"
     ]
    }
   ]
  },
  {
   "cell_type": "code",
   "source": [
    "coefficients.style.background_gradient(cmap='Blues')"
   ],
   "metadata": {
    "colab": {
     "base_uri": "https://localhost:8080/",
     "height": 589
    },
    "id": "0-sRgvi6m0q8",
    "outputId": "35db9342-1126-4c95-889a-3be611809402",
    "pycharm": {
     "name": "#%%\n"
    }
   },
   "execution_count": null,
   "outputs": [
    {
     "output_type": "execute_result",
     "data": {
      "text/plain": [
       "<pandas.io.formats.style.Styler at 0x219cbf97c88>"
      ],
      "text/html": [
       "<style  type=\"text/css\" >\n",
       "#T_b57dae3a_cbc8_11ec_93f3_2cf05db5fb9frow0_col0{\n",
       "            background-color:  #2575b7;\n",
       "            color:  #000000;\n",
       "        }#T_b57dae3a_cbc8_11ec_93f3_2cf05db5fb9frow0_col1{\n",
       "            background-color:  #7db8da;\n",
       "            color:  #000000;\n",
       "        }#T_b57dae3a_cbc8_11ec_93f3_2cf05db5fb9frow0_col2,#T_b57dae3a_cbc8_11ec_93f3_2cf05db5fb9frow5_col2,#T_b57dae3a_cbc8_11ec_93f3_2cf05db5fb9frow13_col2,#T_b57dae3a_cbc8_11ec_93f3_2cf05db5fb9frow14_col2,#T_b57dae3a_cbc8_11ec_93f3_2cf05db5fb9frow19_col2,#T_b57dae3a_cbc8_11ec_93f3_2cf05db5fb9frow22_col2,#T_b57dae3a_cbc8_11ec_93f3_2cf05db5fb9frow23_col2,#T_b57dae3a_cbc8_11ec_93f3_2cf05db5fb9frow25_col3{\n",
       "            background-color:  #4896c8;\n",
       "            color:  #000000;\n",
       "        }#T_b57dae3a_cbc8_11ec_93f3_2cf05db5fb9frow0_col3,#T_b57dae3a_cbc8_11ec_93f3_2cf05db5fb9frow2_col3,#T_b57dae3a_cbc8_11ec_93f3_2cf05db5fb9frow3_col1,#T_b57dae3a_cbc8_11ec_93f3_2cf05db5fb9frow3_col2,#T_b57dae3a_cbc8_11ec_93f3_2cf05db5fb9frow3_col3,#T_b57dae3a_cbc8_11ec_93f3_2cf05db5fb9frow4_col0,#T_b57dae3a_cbc8_11ec_93f3_2cf05db5fb9frow5_col0,#T_b57dae3a_cbc8_11ec_93f3_2cf05db5fb9frow6_col0,#T_b57dae3a_cbc8_11ec_93f3_2cf05db5fb9frow7_col0,#T_b57dae3a_cbc8_11ec_93f3_2cf05db5fb9frow8_col3,#T_b57dae3a_cbc8_11ec_93f3_2cf05db5fb9frow9_col3,#T_b57dae3a_cbc8_11ec_93f3_2cf05db5fb9frow11_col1,#T_b57dae3a_cbc8_11ec_93f3_2cf05db5fb9frow11_col2,#T_b57dae3a_cbc8_11ec_93f3_2cf05db5fb9frow11_col3,#T_b57dae3a_cbc8_11ec_93f3_2cf05db5fb9frow12_col0,#T_b57dae3a_cbc8_11ec_93f3_2cf05db5fb9frow13_col0,#T_b57dae3a_cbc8_11ec_93f3_2cf05db5fb9frow14_col0,#T_b57dae3a_cbc8_11ec_93f3_2cf05db5fb9frow16_col1,#T_b57dae3a_cbc8_11ec_93f3_2cf05db5fb9frow16_col2,#T_b57dae3a_cbc8_11ec_93f3_2cf05db5fb9frow16_col3,#T_b57dae3a_cbc8_11ec_93f3_2cf05db5fb9frow17_col0,#T_b57dae3a_cbc8_11ec_93f3_2cf05db5fb9frow18_col0,#T_b57dae3a_cbc8_11ec_93f3_2cf05db5fb9frow19_col0,#T_b57dae3a_cbc8_11ec_93f3_2cf05db5fb9frow20_col1,#T_b57dae3a_cbc8_11ec_93f3_2cf05db5fb9frow20_col2,#T_b57dae3a_cbc8_11ec_93f3_2cf05db5fb9frow20_col3,#T_b57dae3a_cbc8_11ec_93f3_2cf05db5fb9frow21_col0,#T_b57dae3a_cbc8_11ec_93f3_2cf05db5fb9frow22_col0,#T_b57dae3a_cbc8_11ec_93f3_2cf05db5fb9frow23_col0,#T_b57dae3a_cbc8_11ec_93f3_2cf05db5fb9frow24_col3{\n",
       "            background-color:  #000000;\n",
       "            color:  #f1f1f1;\n",
       "        }#T_b57dae3a_cbc8_11ec_93f3_2cf05db5fb9frow1_col0,#T_b57dae3a_cbc8_11ec_93f3_2cf05db5fb9frow1_col2,#T_b57dae3a_cbc8_11ec_93f3_2cf05db5fb9frow7_col3,#T_b57dae3a_cbc8_11ec_93f3_2cf05db5fb9frow15_col1{\n",
       "            background-color:  #08306b;\n",
       "            color:  #f1f1f1;\n",
       "        }#T_b57dae3a_cbc8_11ec_93f3_2cf05db5fb9frow1_col1,#T_b57dae3a_cbc8_11ec_93f3_2cf05db5fb9frow1_col3{\n",
       "            background-color:  #08326e;\n",
       "            color:  #f1f1f1;\n",
       "        }#T_b57dae3a_cbc8_11ec_93f3_2cf05db5fb9frow2_col0,#T_b57dae3a_cbc8_11ec_93f3_2cf05db5fb9frow2_col1{\n",
       "            background-color:  #549fcd;\n",
       "            color:  #000000;\n",
       "        }#T_b57dae3a_cbc8_11ec_93f3_2cf05db5fb9frow2_col2{\n",
       "            background-color:  #3787c0;\n",
       "            color:  #000000;\n",
       "        }#T_b57dae3a_cbc8_11ec_93f3_2cf05db5fb9frow3_col0,#T_b57dae3a_cbc8_11ec_93f3_2cf05db5fb9frow16_col0,#T_b57dae3a_cbc8_11ec_93f3_2cf05db5fb9frow20_col0{\n",
       "            background-color:  #74b3d8;\n",
       "            color:  #000000;\n",
       "        }#T_b57dae3a_cbc8_11ec_93f3_2cf05db5fb9frow4_col1{\n",
       "            background-color:  #d7e6f5;\n",
       "            color:  #000000;\n",
       "        }#T_b57dae3a_cbc8_11ec_93f3_2cf05db5fb9frow4_col2{\n",
       "            background-color:  #8fc2de;\n",
       "            color:  #000000;\n",
       "        }#T_b57dae3a_cbc8_11ec_93f3_2cf05db5fb9frow4_col3{\n",
       "            background-color:  #deebf7;\n",
       "            color:  #000000;\n",
       "        }#T_b57dae3a_cbc8_11ec_93f3_2cf05db5fb9frow5_col1{\n",
       "            background-color:  #66abd4;\n",
       "            color:  #000000;\n",
       "        }#T_b57dae3a_cbc8_11ec_93f3_2cf05db5fb9frow5_col3{\n",
       "            background-color:  #6aaed6;\n",
       "            color:  #000000;\n",
       "        }#T_b57dae3a_cbc8_11ec_93f3_2cf05db5fb9frow6_col1{\n",
       "            background-color:  #e2edf8;\n",
       "            color:  #000000;\n",
       "        }#T_b57dae3a_cbc8_11ec_93f3_2cf05db5fb9frow6_col2,#T_b57dae3a_cbc8_11ec_93f3_2cf05db5fb9frow19_col3{\n",
       "            background-color:  #b0d2e7;\n",
       "            color:  #000000;\n",
       "        }#T_b57dae3a_cbc8_11ec_93f3_2cf05db5fb9frow6_col3{\n",
       "            background-color:  #e3eef9;\n",
       "            color:  #000000;\n",
       "        }#T_b57dae3a_cbc8_11ec_93f3_2cf05db5fb9frow7_col1{\n",
       "            background-color:  #0a549e;\n",
       "            color:  #f1f1f1;\n",
       "        }#T_b57dae3a_cbc8_11ec_93f3_2cf05db5fb9frow7_col2{\n",
       "            background-color:  #084b93;\n",
       "            color:  #f1f1f1;\n",
       "        }#T_b57dae3a_cbc8_11ec_93f3_2cf05db5fb9frow8_col0{\n",
       "            background-color:  #083c7d;\n",
       "            color:  #f1f1f1;\n",
       "        }#T_b57dae3a_cbc8_11ec_93f3_2cf05db5fb9frow8_col1{\n",
       "            background-color:  #2676b8;\n",
       "            color:  #000000;\n",
       "        }#T_b57dae3a_cbc8_11ec_93f3_2cf05db5fb9frow8_col2,#T_b57dae3a_cbc8_11ec_93f3_2cf05db5fb9frow15_col0{\n",
       "            background-color:  #1966ad;\n",
       "            color:  #f1f1f1;\n",
       "        }#T_b57dae3a_cbc8_11ec_93f3_2cf05db5fb9frow9_col0{\n",
       "            background-color:  #72b2d8;\n",
       "            color:  #000000;\n",
       "        }#T_b57dae3a_cbc8_11ec_93f3_2cf05db5fb9frow9_col1{\n",
       "            background-color:  #a6cee4;\n",
       "            color:  #000000;\n",
       "        }#T_b57dae3a_cbc8_11ec_93f3_2cf05db5fb9frow9_col2{\n",
       "            background-color:  #539ecd;\n",
       "            color:  #000000;\n",
       "        }#T_b57dae3a_cbc8_11ec_93f3_2cf05db5fb9frow10_col0{\n",
       "            background-color:  #083b7c;\n",
       "            color:  #f1f1f1;\n",
       "        }#T_b57dae3a_cbc8_11ec_93f3_2cf05db5fb9frow10_col1{\n",
       "            background-color:  #3e8ec4;\n",
       "            color:  #000000;\n",
       "        }#T_b57dae3a_cbc8_11ec_93f3_2cf05db5fb9frow10_col2{\n",
       "            background-color:  #2c7cba;\n",
       "            color:  #000000;\n",
       "        }#T_b57dae3a_cbc8_11ec_93f3_2cf05db5fb9frow10_col3{\n",
       "            background-color:  #3282be;\n",
       "            color:  #000000;\n",
       "        }#T_b57dae3a_cbc8_11ec_93f3_2cf05db5fb9frow11_col0{\n",
       "            background-color:  #71b1d7;\n",
       "            color:  #000000;\n",
       "        }#T_b57dae3a_cbc8_11ec_93f3_2cf05db5fb9frow12_col1{\n",
       "            background-color:  #c4daee;\n",
       "            color:  #000000;\n",
       "        }#T_b57dae3a_cbc8_11ec_93f3_2cf05db5fb9frow12_col2,#T_b57dae3a_cbc8_11ec_93f3_2cf05db5fb9frow13_col1{\n",
       "            background-color:  #68acd5;\n",
       "            color:  #000000;\n",
       "        }#T_b57dae3a_cbc8_11ec_93f3_2cf05db5fb9frow12_col3,#T_b57dae3a_cbc8_11ec_93f3_2cf05db5fb9frow19_col1{\n",
       "            background-color:  #c7dcef;\n",
       "            color:  #000000;\n",
       "        }#T_b57dae3a_cbc8_11ec_93f3_2cf05db5fb9frow13_col3{\n",
       "            background-color:  #529dcc;\n",
       "            color:  #000000;\n",
       "        }#T_b57dae3a_cbc8_11ec_93f3_2cf05db5fb9frow14_col1{\n",
       "            background-color:  #92c4de;\n",
       "            color:  #000000;\n",
       "        }#T_b57dae3a_cbc8_11ec_93f3_2cf05db5fb9frow14_col3,#T_b57dae3a_cbc8_11ec_93f3_2cf05db5fb9frow22_col1{\n",
       "            background-color:  #89bedc;\n",
       "            color:  #000000;\n",
       "        }#T_b57dae3a_cbc8_11ec_93f3_2cf05db5fb9frow15_col2{\n",
       "            background-color:  #084285;\n",
       "            color:  #f1f1f1;\n",
       "        }#T_b57dae3a_cbc8_11ec_93f3_2cf05db5fb9frow15_col3{\n",
       "            background-color:  #08478d;\n",
       "            color:  #f1f1f1;\n",
       "        }#T_b57dae3a_cbc8_11ec_93f3_2cf05db5fb9frow17_col1{\n",
       "            background-color:  #cadef0;\n",
       "            color:  #000000;\n",
       "        }#T_b57dae3a_cbc8_11ec_93f3_2cf05db5fb9frow17_col2{\n",
       "            background-color:  #81badb;\n",
       "            color:  #000000;\n",
       "        }#T_b57dae3a_cbc8_11ec_93f3_2cf05db5fb9frow17_col3{\n",
       "            background-color:  #d4e4f4;\n",
       "            color:  #000000;\n",
       "        }#T_b57dae3a_cbc8_11ec_93f3_2cf05db5fb9frow18_col1{\n",
       "            background-color:  #3080bd;\n",
       "            color:  #000000;\n",
       "        }#T_b57dae3a_cbc8_11ec_93f3_2cf05db5fb9frow18_col2{\n",
       "            background-color:  #1a68ae;\n",
       "            color:  #f1f1f1;\n",
       "        }#T_b57dae3a_cbc8_11ec_93f3_2cf05db5fb9frow18_col3{\n",
       "            background-color:  #2070b4;\n",
       "            color:  #f1f1f1;\n",
       "        }#T_b57dae3a_cbc8_11ec_93f3_2cf05db5fb9frow21_col1,#T_b57dae3a_cbc8_11ec_93f3_2cf05db5fb9frow21_col2,#T_b57dae3a_cbc8_11ec_93f3_2cf05db5fb9frow21_col3,#T_b57dae3a_cbc8_11ec_93f3_2cf05db5fb9frow24_col0{\n",
       "            background-color:  #f7fbff;\n",
       "            color:  #000000;\n",
       "        }#T_b57dae3a_cbc8_11ec_93f3_2cf05db5fb9frow22_col3{\n",
       "            background-color:  #85bcdc;\n",
       "            color:  #000000;\n",
       "        }#T_b57dae3a_cbc8_11ec_93f3_2cf05db5fb9frow23_col1{\n",
       "            background-color:  #2373b6;\n",
       "            color:  #f1f1f1;\n",
       "        }#T_b57dae3a_cbc8_11ec_93f3_2cf05db5fb9frow23_col3{\n",
       "            background-color:  #1561a9;\n",
       "            color:  #f1f1f1;\n",
       "        }#T_b57dae3a_cbc8_11ec_93f3_2cf05db5fb9frow24_col1{\n",
       "            background-color:  #c3daee;\n",
       "            color:  #000000;\n",
       "        }#T_b57dae3a_cbc8_11ec_93f3_2cf05db5fb9frow24_col2{\n",
       "            background-color:  #7ab6d9;\n",
       "            color:  #000000;\n",
       "        }#T_b57dae3a_cbc8_11ec_93f3_2cf05db5fb9frow25_col0{\n",
       "            background-color:  #3b8bc2;\n",
       "            color:  #000000;\n",
       "        }#T_b57dae3a_cbc8_11ec_93f3_2cf05db5fb9frow25_col1{\n",
       "            background-color:  #4292c6;\n",
       "            color:  #000000;\n",
       "        }#T_b57dae3a_cbc8_11ec_93f3_2cf05db5fb9frow25_col2{\n",
       "            background-color:  #2f7fbc;\n",
       "            color:  #000000;\n",
       "        }</style><table id=\"T_b57dae3a_cbc8_11ec_93f3_2cf05db5fb9f\" ><thead>    <tr>        <th class=\"blank level0\" ></th>        <th class=\"col_heading level0 col0\" >corr</th>        <th class=\"col_heading level0 col1\" >l2_full_С1</th>        <th class=\"col_heading level0 col2\" >l1_full_С1</th>        <th class=\"col_heading level0 col3\" >l2_corr_deleted_С1</th>    </tr></thead><tbody>\n",
       "                <tr>\n",
       "                        <th id=\"T_b57dae3a_cbc8_11ec_93f3_2cf05db5fb9flevel0_row0\" class=\"row_heading level0 row0\" >age</th>\n",
       "                        <td id=\"T_b57dae3a_cbc8_11ec_93f3_2cf05db5fb9frow0_col0\" class=\"data row0 col0\" >0.227075</td>\n",
       "                        <td id=\"T_b57dae3a_cbc8_11ec_93f3_2cf05db5fb9frow0_col1\" class=\"data row0 col1\" >-0.039140</td>\n",
       "                        <td id=\"T_b57dae3a_cbc8_11ec_93f3_2cf05db5fb9frow0_col2\" class=\"data row0 col2\" >0.000000</td>\n",
       "                        <td id=\"T_b57dae3a_cbc8_11ec_93f3_2cf05db5fb9frow0_col3\" class=\"data row0 col3\" >nan</td>\n",
       "            </tr>\n",
       "            <tr>\n",
       "                        <th id=\"T_b57dae3a_cbc8_11ec_93f3_2cf05db5fb9flevel0_row1\" class=\"row_heading level0 row1\" >ca</th>\n",
       "                        <td id=\"T_b57dae3a_cbc8_11ec_93f3_2cf05db5fb9frow1_col0\" class=\"data row1 col0\" >0.464186</td>\n",
       "                        <td id=\"T_b57dae3a_cbc8_11ec_93f3_2cf05db5fb9frow1_col1\" class=\"data row1 col1\" >1.017928</td>\n",
       "                        <td id=\"T_b57dae3a_cbc8_11ec_93f3_2cf05db5fb9frow1_col2\" class=\"data row1 col2\" >0.977203</td>\n",
       "                        <td id=\"T_b57dae3a_cbc8_11ec_93f3_2cf05db5fb9frow1_col3\" class=\"data row1 col3\" >1.005527</td>\n",
       "            </tr>\n",
       "            <tr>\n",
       "                        <th id=\"T_b57dae3a_cbc8_11ec_93f3_2cf05db5fb9flevel0_row2\" class=\"row_heading level0 row2\" >chol</th>\n",
       "                        <td id=\"T_b57dae3a_cbc8_11ec_93f3_2cf05db5fb9frow2_col0\" class=\"data row2 col0\" >0.080285</td>\n",
       "                        <td id=\"T_b57dae3a_cbc8_11ec_93f3_2cf05db5fb9frow2_col1\" class=\"data row2 col1\" >0.189894</td>\n",
       "                        <td id=\"T_b57dae3a_cbc8_11ec_93f3_2cf05db5fb9frow2_col2\" class=\"data row2 col2\" >0.142918</td>\n",
       "                        <td id=\"T_b57dae3a_cbc8_11ec_93f3_2cf05db5fb9frow2_col3\" class=\"data row2 col3\" >nan</td>\n",
       "            </tr>\n",
       "            <tr>\n",
       "                        <th id=\"T_b57dae3a_cbc8_11ec_93f3_2cf05db5fb9flevel0_row3\" class=\"row_heading level0 row3\" >cp</th>\n",
       "                        <td id=\"T_b57dae3a_cbc8_11ec_93f3_2cf05db5fb9frow3_col0\" class=\"data row3 col0\" >0.000000</td>\n",
       "                        <td id=\"T_b57dae3a_cbc8_11ec_93f3_2cf05db5fb9frow3_col1\" class=\"data row3 col1\" >nan</td>\n",
       "                        <td id=\"T_b57dae3a_cbc8_11ec_93f3_2cf05db5fb9frow3_col2\" class=\"data row3 col2\" >nan</td>\n",
       "                        <td id=\"T_b57dae3a_cbc8_11ec_93f3_2cf05db5fb9frow3_col3\" class=\"data row3 col3\" >nan</td>\n",
       "            </tr>\n",
       "            <tr>\n",
       "                        <th id=\"T_b57dae3a_cbc8_11ec_93f3_2cf05db5fb9flevel0_row4\" class=\"row_heading level0 row4\" >cp__0</th>\n",
       "                        <td id=\"T_b57dae3a_cbc8_11ec_93f3_2cf05db5fb9frow4_col0\" class=\"data row4 col0\" >nan</td>\n",
       "                        <td id=\"T_b57dae3a_cbc8_11ec_93f3_2cf05db5fb9frow4_col1\" class=\"data row4 col1\" >-0.617585</td>\n",
       "                        <td id=\"T_b57dae3a_cbc8_11ec_93f3_2cf05db5fb9frow4_col2\" class=\"data row4 col2\" >-0.496693</td>\n",
       "                        <td id=\"T_b57dae3a_cbc8_11ec_93f3_2cf05db5fb9frow4_col3\" class=\"data row4 col3\" >-0.703934</td>\n",
       "            </tr>\n",
       "            <tr>\n",
       "                        <th id=\"T_b57dae3a_cbc8_11ec_93f3_2cf05db5fb9flevel0_row5\" class=\"row_heading level0 row5\" >cp__1</th>\n",
       "                        <td id=\"T_b57dae3a_cbc8_11ec_93f3_2cf05db5fb9frow5_col0\" class=\"data row5 col0\" >nan</td>\n",
       "                        <td id=\"T_b57dae3a_cbc8_11ec_93f3_2cf05db5fb9frow5_col1\" class=\"data row5 col1\" >0.077405</td>\n",
       "                        <td id=\"T_b57dae3a_cbc8_11ec_93f3_2cf05db5fb9frow5_col2\" class=\"data row5 col2\" >0.000000</td>\n",
       "                        <td id=\"T_b57dae3a_cbc8_11ec_93f3_2cf05db5fb9frow5_col3\" class=\"data row5 col3\" >0.039737</td>\n",
       "            </tr>\n",
       "            <tr>\n",
       "                        <th id=\"T_b57dae3a_cbc8_11ec_93f3_2cf05db5fb9flevel0_row6\" class=\"row_heading level0 row6\" >cp__2</th>\n",
       "                        <td id=\"T_b57dae3a_cbc8_11ec_93f3_2cf05db5fb9frow6_col0\" class=\"data row6 col0\" >nan</td>\n",
       "                        <td id=\"T_b57dae3a_cbc8_11ec_93f3_2cf05db5fb9frow6_col1\" class=\"data row6 col1\" >-0.722486</td>\n",
       "                        <td id=\"T_b57dae3a_cbc8_11ec_93f3_2cf05db5fb9frow6_col2\" class=\"data row6 col2\" >-0.723184</td>\n",
       "                        <td id=\"T_b57dae3a_cbc8_11ec_93f3_2cf05db5fb9frow6_col3\" class=\"data row6 col3\" >-0.754555</td>\n",
       "            </tr>\n",
       "            <tr>\n",
       "                        <th id=\"T_b57dae3a_cbc8_11ec_93f3_2cf05db5fb9flevel0_row7\" class=\"row_heading level0 row7\" >cp__3</th>\n",
       "                        <td id=\"T_b57dae3a_cbc8_11ec_93f3_2cf05db5fb9frow7_col0\" class=\"data row7 col0\" >nan</td>\n",
       "                        <td id=\"T_b57dae3a_cbc8_11ec_93f3_2cf05db5fb9frow7_col1\" class=\"data row7 col1\" >0.768261</td>\n",
       "                        <td id=\"T_b57dae3a_cbc8_11ec_93f3_2cf05db5fb9frow7_col2\" class=\"data row7 col2\" >0.722932</td>\n",
       "                        <td id=\"T_b57dae3a_cbc8_11ec_93f3_2cf05db5fb9frow7_col3\" class=\"data row7 col3\" >1.028318</td>\n",
       "            </tr>\n",
       "            <tr>\n",
       "                        <th id=\"T_b57dae3a_cbc8_11ec_93f3_2cf05db5fb9flevel0_row8\" class=\"row_heading level0 row8\" >exang</th>\n",
       "                        <td id=\"T_b57dae3a_cbc8_11ec_93f3_2cf05db5fb9frow8_col0\" class=\"data row8 col0\" >0.421355</td>\n",
       "                        <td id=\"T_b57dae3a_cbc8_11ec_93f3_2cf05db5fb9frow8_col1\" class=\"data row8 col1\" >0.507223</td>\n",
       "                        <td id=\"T_b57dae3a_cbc8_11ec_93f3_2cf05db5fb9frow8_col2\" class=\"data row8 col2\" >0.452898</td>\n",
       "                        <td id=\"T_b57dae3a_cbc8_11ec_93f3_2cf05db5fb9frow8_col3\" class=\"data row8 col3\" >nan</td>\n",
       "            </tr>\n",
       "            <tr>\n",
       "                        <th id=\"T_b57dae3a_cbc8_11ec_93f3_2cf05db5fb9flevel0_row9\" class=\"row_heading level0 row9\" >fbs</th>\n",
       "                        <td id=\"T_b57dae3a_cbc8_11ec_93f3_2cf05db5fb9frow9_col0\" class=\"data row9 col0\" >0.003167</td>\n",
       "                        <td id=\"T_b57dae3a_cbc8_11ec_93f3_2cf05db5fb9frow9_col1\" class=\"data row9 col1\" >-0.242005</td>\n",
       "                        <td id=\"T_b57dae3a_cbc8_11ec_93f3_2cf05db5fb9frow9_col2\" class=\"data row9 col2\" >-0.087544</td>\n",
       "                        <td id=\"T_b57dae3a_cbc8_11ec_93f3_2cf05db5fb9frow9_col3\" class=\"data row9 col3\" >nan</td>\n",
       "            </tr>\n",
       "            <tr>\n",
       "                        <th id=\"T_b57dae3a_cbc8_11ec_93f3_2cf05db5fb9flevel0_row10\" class=\"row_heading level0 row10\" >oldpeak</th>\n",
       "                        <td id=\"T_b57dae3a_cbc8_11ec_93f3_2cf05db5fb9frow10_col0\" class=\"data row10 col0\" >0.424052</td>\n",
       "                        <td id=\"T_b57dae3a_cbc8_11ec_93f3_2cf05db5fb9frow10_col1\" class=\"data row10 col1\" >0.323406</td>\n",
       "                        <td id=\"T_b57dae3a_cbc8_11ec_93f3_2cf05db5fb9frow10_col2\" class=\"data row10 col2\" >0.253314</td>\n",
       "                        <td id=\"T_b57dae3a_cbc8_11ec_93f3_2cf05db5fb9frow10_col3\" class=\"data row10 col3\" >0.404536</td>\n",
       "            </tr>\n",
       "            <tr>\n",
       "                        <th id=\"T_b57dae3a_cbc8_11ec_93f3_2cf05db5fb9flevel0_row11\" class=\"row_heading level0 row11\" >restecg</th>\n",
       "                        <td id=\"T_b57dae3a_cbc8_11ec_93f3_2cf05db5fb9frow11_col0\" class=\"data row11 col0\" >0.008467</td>\n",
       "                        <td id=\"T_b57dae3a_cbc8_11ec_93f3_2cf05db5fb9frow11_col1\" class=\"data row11 col1\" >nan</td>\n",
       "                        <td id=\"T_b57dae3a_cbc8_11ec_93f3_2cf05db5fb9frow11_col2\" class=\"data row11 col2\" >nan</td>\n",
       "                        <td id=\"T_b57dae3a_cbc8_11ec_93f3_2cf05db5fb9frow11_col3\" class=\"data row11 col3\" >nan</td>\n",
       "            </tr>\n",
       "            <tr>\n",
       "                        <th id=\"T_b57dae3a_cbc8_11ec_93f3_2cf05db5fb9flevel0_row12\" class=\"row_heading level0 row12\" >restecg__0</th>\n",
       "                        <td id=\"T_b57dae3a_cbc8_11ec_93f3_2cf05db5fb9frow12_col0\" class=\"data row12 col0\" >nan</td>\n",
       "                        <td id=\"T_b57dae3a_cbc8_11ec_93f3_2cf05db5fb9frow12_col1\" class=\"data row12 col1\" >-0.431497</td>\n",
       "                        <td id=\"T_b57dae3a_cbc8_11ec_93f3_2cf05db5fb9frow12_col2\" class=\"data row12 col2\" >-0.251155</td>\n",
       "                        <td id=\"T_b57dae3a_cbc8_11ec_93f3_2cf05db5fb9frow12_col3\" class=\"data row12 col3\" >-0.471686</td>\n",
       "            </tr>\n",
       "            <tr>\n",
       "                        <th id=\"T_b57dae3a_cbc8_11ec_93f3_2cf05db5fb9flevel0_row13\" class=\"row_heading level0 row13\" >restecg__1</th>\n",
       "                        <td id=\"T_b57dae3a_cbc8_11ec_93f3_2cf05db5fb9frow13_col0\" class=\"data row13 col0\" >nan</td>\n",
       "                        <td id=\"T_b57dae3a_cbc8_11ec_93f3_2cf05db5fb9frow13_col1\" class=\"data row13 col1\" >0.072843</td>\n",
       "                        <td id=\"T_b57dae3a_cbc8_11ec_93f3_2cf05db5fb9frow13_col2\" class=\"data row13 col2\" >0.000000</td>\n",
       "                        <td id=\"T_b57dae3a_cbc8_11ec_93f3_2cf05db5fb9frow13_col3\" class=\"data row13 col3\" >0.188549</td>\n",
       "            </tr>\n",
       "            <tr>\n",
       "                        <th id=\"T_b57dae3a_cbc8_11ec_93f3_2cf05db5fb9flevel0_row14\" class=\"row_heading level0 row14\" >restecg__2</th>\n",
       "                        <td id=\"T_b57dae3a_cbc8_11ec_93f3_2cf05db5fb9frow14_col0\" class=\"data row14 col0\" >nan</td>\n",
       "                        <td id=\"T_b57dae3a_cbc8_11ec_93f3_2cf05db5fb9frow14_col1\" class=\"data row14 col1\" >-0.135752</td>\n",
       "                        <td id=\"T_b57dae3a_cbc8_11ec_93f3_2cf05db5fb9frow14_col2\" class=\"data row14 col2\" >0.000000</td>\n",
       "                        <td id=\"T_b57dae3a_cbc8_11ec_93f3_2cf05db5fb9frow14_col3\" class=\"data row14 col3\" >-0.107298</td>\n",
       "            </tr>\n",
       "            <tr>\n",
       "                        <th id=\"T_b57dae3a_cbc8_11ec_93f3_2cf05db5fb9flevel0_row15\" class=\"row_heading level0 row15\" >sex</th>\n",
       "                        <td id=\"T_b57dae3a_cbc8_11ec_93f3_2cf05db5fb9frow15_col0\" class=\"data row15 col0\" >0.278467</td>\n",
       "                        <td id=\"T_b57dae3a_cbc8_11ec_93f3_2cf05db5fb9frow15_col1\" class=\"data row15 col1\" >1.038988</td>\n",
       "                        <td id=\"T_b57dae3a_cbc8_11ec_93f3_2cf05db5fb9frow15_col2\" class=\"data row15 col2\" >0.811179</td>\n",
       "                        <td id=\"T_b57dae3a_cbc8_11ec_93f3_2cf05db5fb9frow15_col3\" class=\"data row15 col3\" >0.850194</td>\n",
       "            </tr>\n",
       "            <tr>\n",
       "                        <th id=\"T_b57dae3a_cbc8_11ec_93f3_2cf05db5fb9flevel0_row16\" class=\"row_heading level0 row16\" >slope</th>\n",
       "                        <td id=\"T_b57dae3a_cbc8_11ec_93f3_2cf05db5fb9frow16_col0\" class=\"data row16 col0\" >0.000000</td>\n",
       "                        <td id=\"T_b57dae3a_cbc8_11ec_93f3_2cf05db5fb9frow16_col1\" class=\"data row16 col1\" >nan</td>\n",
       "                        <td id=\"T_b57dae3a_cbc8_11ec_93f3_2cf05db5fb9frow16_col2\" class=\"data row16 col2\" >nan</td>\n",
       "                        <td id=\"T_b57dae3a_cbc8_11ec_93f3_2cf05db5fb9frow16_col3\" class=\"data row16 col3\" >nan</td>\n",
       "            </tr>\n",
       "            <tr>\n",
       "                        <th id=\"T_b57dae3a_cbc8_11ec_93f3_2cf05db5fb9flevel0_row17\" class=\"row_heading level0 row17\" >slope__0</th>\n",
       "                        <td id=\"T_b57dae3a_cbc8_11ec_93f3_2cf05db5fb9frow17_col0\" class=\"data row17 col0\" >nan</td>\n",
       "                        <td id=\"T_b57dae3a_cbc8_11ec_93f3_2cf05db5fb9frow17_col1\" class=\"data row17 col1\" >-0.481959</td>\n",
       "                        <td id=\"T_b57dae3a_cbc8_11ec_93f3_2cf05db5fb9frow17_col2\" class=\"data row17 col2\" >-0.406255</td>\n",
       "                        <td id=\"T_b57dae3a_cbc8_11ec_93f3_2cf05db5fb9frow17_col3\" class=\"data row17 col3\" >-0.600610</td>\n",
       "            </tr>\n",
       "            <tr>\n",
       "                        <th id=\"T_b57dae3a_cbc8_11ec_93f3_2cf05db5fb9flevel0_row18\" class=\"row_heading level0 row18\" >slope__1</th>\n",
       "                        <td id=\"T_b57dae3a_cbc8_11ec_93f3_2cf05db5fb9frow18_col0\" class=\"data row18 col0\" >nan</td>\n",
       "                        <td id=\"T_b57dae3a_cbc8_11ec_93f3_2cf05db5fb9frow18_col1\" class=\"data row18 col1\" >0.436114</td>\n",
       "                        <td id=\"T_b57dae3a_cbc8_11ec_93f3_2cf05db5fb9frow18_col2\" class=\"data row18 col2\" >0.435609</td>\n",
       "                        <td id=\"T_b57dae3a_cbc8_11ec_93f3_2cf05db5fb9frow18_col3\" class=\"data row18 col3\" >0.535007</td>\n",
       "            </tr>\n",
       "            <tr>\n",
       "                        <th id=\"T_b57dae3a_cbc8_11ec_93f3_2cf05db5fb9flevel0_row19\" class=\"row_heading level0 row19\" >slope__2</th>\n",
       "                        <td id=\"T_b57dae3a_cbc8_11ec_93f3_2cf05db5fb9frow19_col0\" class=\"data row19 col0\" >nan</td>\n",
       "                        <td id=\"T_b57dae3a_cbc8_11ec_93f3_2cf05db5fb9frow19_col1\" class=\"data row19 col1\" >-0.448561</td>\n",
       "                        <td id=\"T_b57dae3a_cbc8_11ec_93f3_2cf05db5fb9frow19_col2\" class=\"data row19 col2\" >0.000000</td>\n",
       "                        <td id=\"T_b57dae3a_cbc8_11ec_93f3_2cf05db5fb9frow19_col3\" class=\"data row19 col3\" >-0.324832</td>\n",
       "            </tr>\n",
       "            <tr>\n",
       "                        <th id=\"T_b57dae3a_cbc8_11ec_93f3_2cf05db5fb9flevel0_row20\" class=\"row_heading level0 row20\" >thal</th>\n",
       "                        <td id=\"T_b57dae3a_cbc8_11ec_93f3_2cf05db5fb9frow20_col0\" class=\"data row20 col0\" >0.000000</td>\n",
       "                        <td id=\"T_b57dae3a_cbc8_11ec_93f3_2cf05db5fb9frow20_col1\" class=\"data row20 col1\" >nan</td>\n",
       "                        <td id=\"T_b57dae3a_cbc8_11ec_93f3_2cf05db5fb9frow20_col2\" class=\"data row20 col2\" >nan</td>\n",
       "                        <td id=\"T_b57dae3a_cbc8_11ec_93f3_2cf05db5fb9frow20_col3\" class=\"data row20 col3\" >nan</td>\n",
       "            </tr>\n",
       "            <tr>\n",
       "                        <th id=\"T_b57dae3a_cbc8_11ec_93f3_2cf05db5fb9flevel0_row21\" class=\"row_heading level0 row21\" >thal__0</th>\n",
       "                        <td id=\"T_b57dae3a_cbc8_11ec_93f3_2cf05db5fb9frow21_col0\" class=\"data row21 col0\" >nan</td>\n",
       "                        <td id=\"T_b57dae3a_cbc8_11ec_93f3_2cf05db5fb9frow21_col1\" class=\"data row21 col1\" >-0.933899</td>\n",
       "                        <td id=\"T_b57dae3a_cbc8_11ec_93f3_2cf05db5fb9frow21_col2\" class=\"data row21 col2\" >-1.521846</td>\n",
       "                        <td id=\"T_b57dae3a_cbc8_11ec_93f3_2cf05db5fb9frow21_col3\" class=\"data row21 col3\" >-0.954915</td>\n",
       "            </tr>\n",
       "            <tr>\n",
       "                        <th id=\"T_b57dae3a_cbc8_11ec_93f3_2cf05db5fb9flevel0_row22\" class=\"row_heading level0 row22\" >thal__1</th>\n",
       "                        <td id=\"T_b57dae3a_cbc8_11ec_93f3_2cf05db5fb9frow22_col0\" class=\"data row22 col0\" >nan</td>\n",
       "                        <td id=\"T_b57dae3a_cbc8_11ec_93f3_2cf05db5fb9frow22_col1\" class=\"data row22 col1\" >-0.089626</td>\n",
       "                        <td id=\"T_b57dae3a_cbc8_11ec_93f3_2cf05db5fb9frow22_col2\" class=\"data row22 col2\" >0.000000</td>\n",
       "                        <td id=\"T_b57dae3a_cbc8_11ec_93f3_2cf05db5fb9frow22_col3\" class=\"data row22 col3\" >-0.091463</td>\n",
       "            </tr>\n",
       "            <tr>\n",
       "                        <th id=\"T_b57dae3a_cbc8_11ec_93f3_2cf05db5fb9flevel0_row23\" class=\"row_heading level0 row23\" >thal__2</th>\n",
       "                        <td id=\"T_b57dae3a_cbc8_11ec_93f3_2cf05db5fb9frow23_col0\" class=\"data row23 col0\" >nan</td>\n",
       "                        <td id=\"T_b57dae3a_cbc8_11ec_93f3_2cf05db5fb9frow23_col1\" class=\"data row23 col1\" >0.529119</td>\n",
       "                        <td id=\"T_b57dae3a_cbc8_11ec_93f3_2cf05db5fb9frow23_col2\" class=\"data row23 col2\" >0.000000</td>\n",
       "                        <td id=\"T_b57dae3a_cbc8_11ec_93f3_2cf05db5fb9frow23_col3\" class=\"data row23 col3\" >0.655943</td>\n",
       "            </tr>\n",
       "            <tr>\n",
       "                        <th id=\"T_b57dae3a_cbc8_11ec_93f3_2cf05db5fb9flevel0_row24\" class=\"row_heading level0 row24\" >thalach</th>\n",
       "                        <td id=\"T_b57dae3a_cbc8_11ec_93f3_2cf05db5fb9frow24_col0\" class=\"data row24 col0\" >-0.423817</td>\n",
       "                        <td id=\"T_b57dae3a_cbc8_11ec_93f3_2cf05db5fb9frow24_col1\" class=\"data row24 col1\" >-0.425084</td>\n",
       "                        <td id=\"T_b57dae3a_cbc8_11ec_93f3_2cf05db5fb9frow24_col2\" class=\"data row24 col2\" >-0.369870</td>\n",
       "                        <td id=\"T_b57dae3a_cbc8_11ec_93f3_2cf05db5fb9frow24_col3\" class=\"data row24 col3\" >nan</td>\n",
       "            </tr>\n",
       "            <tr>\n",
       "                        <th id=\"T_b57dae3a_cbc8_11ec_93f3_2cf05db5fb9flevel0_row25\" class=\"row_heading level0 row25\" >trestbps</th>\n",
       "                        <td id=\"T_b57dae3a_cbc8_11ec_93f3_2cf05db5fb9frow25_col0\" class=\"data row25 col0\" >0.153490</td>\n",
       "                        <td id=\"T_b57dae3a_cbc8_11ec_93f3_2cf05db5fb9frow25_col1\" class=\"data row25 col1\" >0.294512</td>\n",
       "                        <td id=\"T_b57dae3a_cbc8_11ec_93f3_2cf05db5fb9frow25_col2\" class=\"data row25 col2\" >0.217359</td>\n",
       "                        <td id=\"T_b57dae3a_cbc8_11ec_93f3_2cf05db5fb9frow25_col3\" class=\"data row25 col3\" >0.251384</td>\n",
       "            </tr>\n",
       "    </tbody></table>"
      ]
     },
     "metadata": {},
     "execution_count": 30
    }
   ]
  },
  {
   "cell_type": "code",
   "source": [
    "# подбор параметра регуляризации улучшений не дает\n",
    "max_recall = 0\n",
    "best_c = 1\n",
    "for c in np.linspace(0.1, 5, 500):\n",
    "  logreg = LogisticRegression(penalty='l2', solver='liblinear', C=c)\n",
    "  logreg, prec, accur, rocauc, recall = model_pipeline(logreg, X_train, X_test, y_train, y_test)\n",
    "  if recall > max_recall:\n",
    "    max_recall = recall\n",
    "    best_c = c\n",
    "print(f'max recall: {max_recall}, best c: {best_c}')"
   ],
   "metadata": {
    "colab": {
     "base_uri": "https://localhost:8080/"
    },
    "id": "EDB-2EXuqP2B",
    "outputId": "1ef1fb8b-2ee7-4fd1-83e9-14d29c594025",
    "pycharm": {
     "name": "#%%\n"
    }
   },
   "execution_count": null,
   "outputs": [
    {
     "output_type": "stream",
     "name": "stdout",
     "text": [
      "max recall: 0.8536585365853658, best c: 0.5320641282565131\n"
     ]
    }
   ]
  },
  {
   "cell_type": "code",
   "source": [
    "# PCA explained variance\n",
    "fig, axis = plt.subplots(1, 1, figsize=(10, 10))\n",
    "X_train, X_test, y_train, y_test = prepro(data)\n",
    "pca = PCA()\n",
    "pca.fit(X_train)\n",
    "cum_variance = np.cumsum(pca.explained_variance_ratio_)\n",
    "axis.plot(np.arange(1, cum_variance.shape[0] + 1), cum_variance)\n",
    "axis.set_xlabel('# components')\n",
    "axis.set_ylabel('explained variance')\n"
   ],
   "metadata": {
    "colab": {
     "base_uri": "https://localhost:8080/",
     "height": 628
    },
    "id": "NNVOfxPrbBVF",
    "outputId": "726d7a67-9a24-4199-df56-5c8fffa36b29",
    "pycharm": {
     "name": "#%%\n"
    }
   },
   "execution_count": null,
   "outputs": [
    {
     "output_type": "execute_result",
     "data": {
      "text/plain": [
       "Text(0, 0.5, 'explained variance')"
      ]
     },
     "metadata": {},
     "execution_count": 49
    },
    {
     "output_type": "display_data",
     "data": {
      "text/plain": [
       "<Figure size 720x720 with 1 Axes>"
      ],
      "image/png": "[encoded data removed]"
     },
     "metadata": {}
    }
   ]
  },
  {
   "cell_type": "code",
   "source": [
    "# pca n=15 + logreg l2\n",
    "X_train, X_test, y_train, y_test = prepro(data, norm=True, pca=True, n_comp=15)\n",
    "logreg = LogisticRegression(penalty='l2', solver='liblinear')\n",
    "logreg, prec, accur, rocauc, recall = model_pipeline(logreg, X_train, X_test, y_train, y_test)\n",
    "print(f'precision: {prec}, accuracy: {accur}, recall: {recall}, roc auc: {rocauc}')"
   ],
   "metadata": {
    "colab": {
     "base_uri": "https://localhost:8080/"
    },
    "id": "6ofiDQ8tfAnx",
    "outputId": "66369039-bc91-4294-b69a-dce451dba163",
    "pycharm": {
     "name": "#%%\n"
    }
   },
   "execution_count": null,
   "outputs": [
    {
     "output_type": "stream",
     "name": "stdout",
     "text": [
      "precision: 0.8717948717948718, accuracy: 0.84, recall: 0.8292682926829268, roc auc: 0.8411047345767575\n"
     ]
    }
   ]
  },
  {
   "cell_type": "code",
   "source": [
    "# pca n=15 + удаляем скоррелированные + logreg l2\n",
    "X_train, X_test, y_train, y_test = prepro(data, corr_deleted, norm=True, pca=True, n_comp=15)\n",
    "logreg = LogisticRegression(penalty='l2', solver='liblinear')\n",
    "logreg, prec, accur, rocauc, recall = model_pipeline(logreg, X_train, X_test, y_train, y_test)\n",
    "print(f'precision: {prec}, accuracy: {accur}, recall: {recall}, roc auc: {rocauc}')"
   ],
   "metadata": {
    "colab": {
     "base_uri": "https://localhost:8080/"
    },
    "id": "19nF557BhDqr",
    "outputId": "cbcceada-4854-4d6d-8f95-fa8facfbdd0b",
    "pycharm": {
     "name": "#%%\n"
    }
   },
   "execution_count": null,
   "outputs": [
    {
     "output_type": "stream",
     "name": "stdout",
     "text": [
      "precision: 0.8974358974358975, accuracy: 0.8666666666666667, recall: 0.8536585365853658, roc auc: 0.8680057388809181\n"
     ]
    }
   ]
  },
  {
   "cell_type": "code",
   "source": [
    "max_recall = 0\n",
    "best_n = 1\n",
    "for n in np.arange(1, 18):\n",
    "  X_train, X_test, y_train, y_test = prepro(data, corr_deleted, norm=True, pca=True, n_comp=n)\n",
    "  logreg = LogisticRegression(penalty='l2', solver='liblinear')\n",
    "  logreg, prec, accur, rocauc, recall = model_pipeline(logreg, X_train, X_test, y_train, y_test)\n",
    "  if recall > max_recall:\n",
    "    max_recall = recall\n",
    "    best_n = n\n",
    "print(f'max recall: {max_recall}, best n: {best_n}')"
   ],
   "metadata": {
    "colab": {
     "base_uri": "https://localhost:8080/"
    },
    "id": "J0BEnkewggaF",
    "outputId": "6e2e964b-bc15-4220-856e-ea98f2eaf5f2",
    "pycharm": {
     "name": "#%%\n"
    }
   },
   "execution_count": null,
   "outputs": [
    {
     "output_type": "stream",
     "name": "stdout",
     "text": [
      "max recall: 0.8536585365853658, best n: 5\n"
     ]
    }
   ]
  },
  {
   "cell_type": "code",
   "source": [
    "len(X_test), len(X_train)"
   ],
   "metadata": {
    "id": "N2hNubaqc7K3",
    "outputId": "ed8673cc-161e-4461-807a-531045a2173a",
    "colab": {
     "base_uri": "https://localhost:8080/"
    },
    "pycharm": {
     "name": "#%%\n"
    }
   },
   "execution_count": null,
   "outputs": [
    {
     "output_type": "execute_result",
     "data": {
      "text/plain": [
       "(75, 222)"
      ]
     },
     "metadata": {},
     "execution_count": 105
    }
   ]
  },
  {
   "cell_type": "markdown",
   "source": [
    "#Деревья"
   ],
   "metadata": {
    "id": "YXFlEyC6twFD",
    "pycharm": {
     "name": "#%% md\n"
    }
   }
  },
  {
   "cell_type": "code",
   "source": [
    "# на всем датасете\n",
    "X_train, X_test, y_train, y_test = prepro(data)\n",
    "tree = DecisionTreeClassifier(random_state=0)\n",
    "tree, prec, accur, rocauc, recall = model_pipeline(tree, X_train, X_test, y_train, y_test)\n",
    "print(f'precision: {prec}, accuracy: {accur}, recall: {recall}, roc auc: {rocauc}')"
   ],
   "metadata": {
    "colab": {
     "base_uri": "https://localhost:8080/"
    },
    "id": "nJWts0bauyCU",
    "outputId": "cd6d349e-c3ef-4608-c378-d8df83aba758",
    "pycharm": {
     "name": "#%%\n"
    }
   },
   "execution_count": null,
   "outputs": [
    {
     "output_type": "stream",
     "name": "stdout",
     "text": [
      "precision: 0.75, accuracy: 0.72, recall: 0.7317073170731707, roc auc: 0.7187948350071736\n"
     ]
    }
   ]
  },
  {
   "cell_type": "code",
   "source": [
    "# удаляем скоррелированные признаки\n",
    "X_train, X_test, y_train, y_test = prepro(data, corr_deleted, norm=False)\n",
    "tree = DecisionTreeClassifier(random_state=0)\n",
    "tree, prec, accur, rocauc, recall = model_pipeline(tree, X_train, X_test, y_train, y_test)\n",
    "print(f'precision: {prec}, accuracy: {accur}, recall: {recall}, roc auc: {rocauc}')"
   ],
   "metadata": {
    "colab": {
     "base_uri": "https://localhost:8080/"
    },
    "id": "bW5Q2l7Wvd3Y",
    "outputId": "a5419716-e9b6-4b03-9a43-24bf2ad11cc4",
    "pycharm": {
     "name": "#%%\n"
    }
   },
   "execution_count": null,
   "outputs": [
    {
     "output_type": "stream",
     "name": "stdout",
     "text": [
      "precision: 0.775, accuracy: 0.7466666666666667, recall: 0.7560975609756098, roc auc: 0.7456958393113343\n"
     ]
    }
   ]
  },
  {
   "cell_type": "code",
   "source": [
    "# подберем макс глубину и мин количество элементов в листе\n",
    "X_train, X_test, y_train, y_test = prepro(data, corr_deleted, norm=False)\n",
    "max_recall = 0\n",
    "precision = 0\n",
    "best_depth = 1\n",
    "depth_collection = np.arange(2, 100, 1)\n",
    "leaf_len_collection = np.arange(1, 50, 1)\n",
    "for depth, leaf in product(depth_collection, leaf_len_collection):\n",
    "  tree = DecisionTreeClassifier(random_state=0, max_depth=depth, min_samples_leaf=leaf)\n",
    "  tree, prec, accur, rocauc, recall = model_pipeline(tree, X_train, X_test, y_train, y_test)\n",
    "  if recall > max_recall:\n",
    "    max_recall = recall\n",
    "    precision = prec\n",
    "    best_depth = depth\n",
    "    best_leaf_len = leaf\n",
    "print(f'max recall: {max_recall}, precision: {max_precision}, best depth: {best_depth}, best_leaf_len: {best_leaf_len}')"
   ],
   "metadata": {
    "colab": {
     "base_uri": "https://localhost:8080/"
    },
    "id": "eCyHlqoCvP0i",
    "outputId": "ccd9eec2-8f5f-4ac5-be34-cf384ce27714",
    "pycharm": {
     "name": "#%%\n"
    }
   },
   "execution_count": null,
   "outputs": [
    {
     "output_type": "stream",
     "name": "stdout",
     "text": [
      "max recall: 0.7804878048780488, max precision: 0.8888888888888888, best depth: 3, best_leaf_len: 6\n"
     ]
    }
   ]
  },
  {
   "cell_type": "code",
   "source": [
    "fig, axis = plt.subplots(1, 1, figsize=(20,20))\n",
    "tree = DecisionTreeClassifier(random_state=0, max_depth=best_depth, min_samples_leaf=best_leaf_len)\n",
    "tree, prec, accur, rocauc, recall = model_pipeline(tree, X_train, X_test, y_train, y_test)\n",
    "sklearn.tree.plot_tree(tree, ax=axis, feature_names=X_train.columns, class_names=['not deseased', 'deseased'], filled=True)"
   ],
   "metadata": {
    "colab": {
     "base_uri": "https://localhost:8080/",
     "height": 1000
    },
    "id": "tPkUcMQA2599",
    "outputId": "97f18982-52b7-49bf-9ace-24095ea9662a",
    "pycharm": {
     "name": "#%%\n"
    }
   },
   "execution_count": null,
   "outputs": [
    {
     "output_type": "execute_result",
     "data": {
      "text/plain": [
       "[Text(558.0, 951.3000000000001, 'thal__0 <= 0.5\\ngini = 0.491\\nsamples = 222\\nvalue = [126, 96]\\nclass = not deseased'),\n",
       " Text(279.0, 679.5, 'oldpeak <= 0.7\\ngini = 0.364\\nsamples = 92\\nvalue = [22, 70]\\nclass = deseased'),\n",
       " Text(139.5, 407.70000000000005, 'ca <= 0.5\\ngini = 0.493\\nsamples = 25\\nvalue = [14, 11]\\nclass = not deseased'),\n",
       " Text(69.75, 135.89999999999998, 'gini = 0.337\\nsamples = 14\\nvalue = [11, 3]\\nclass = not deseased'),\n",
       " Text(209.25, 135.89999999999998, 'gini = 0.397\\nsamples = 11\\nvalue = [3, 8]\\nclass = deseased'),\n",
       " Text(418.5, 407.70000000000005, 'cp__0 <= 0.5\\ngini = 0.21\\nsamples = 67\\nvalue = [8, 59]\\nclass = deseased'),\n",
       " Text(348.75, 135.89999999999998, 'gini = 0.123\\nsamples = 61\\nvalue = [4, 57]\\nclass = deseased'),\n",
       " Text(488.25, 135.89999999999998, 'gini = 0.444\\nsamples = 6\\nvalue = [4, 2]\\nclass = not deseased'),\n",
       " Text(837.0, 679.5, 'ca <= 0.5\\ngini = 0.32\\nsamples = 130\\nvalue = [104, 26]\\nclass = not deseased'),\n",
       " Text(697.5, 407.70000000000005, 'trestbps <= 155.5\\ngini = 0.194\\nsamples = 92\\nvalue = [82, 10]\\nclass = not deseased'),\n",
       " Text(627.75, 135.89999999999998, 'gini = 0.15\\nsamples = 86\\nvalue = [79, 7]\\nclass = not deseased'),\n",
       " Text(767.25, 135.89999999999998, 'gini = 0.5\\nsamples = 6\\nvalue = [3, 3]\\nclass = not deseased'),\n",
       " Text(976.5, 407.70000000000005, 'cp__3 <= 0.5\\ngini = 0.488\\nsamples = 38\\nvalue = [22, 16]\\nclass = not deseased'),\n",
       " Text(906.75, 135.89999999999998, 'gini = 0.33\\nsamples = 24\\nvalue = [19, 5]\\nclass = not deseased'),\n",
       " Text(1046.25, 135.89999999999998, 'gini = 0.337\\nsamples = 14\\nvalue = [3, 11]\\nclass = deseased')]"
      ]
     },
     "metadata": {},
     "execution_count": 36
    },
    {
     "output_type": "display_data",
     "data": {
      "text/plain": [
       "<Figure size 1440x1440 with 1 Axes>"
      ],
      "image/png": "[encoded data removed]"
     },
     "metadata": {}
    }
   ]
  },
  {
   "cell_type": "code",
   "source": [
    "# удаляем скоррелированные признаки + PCA n=5\n",
    "X_train, X_test, y_train, y_test = prepro(data, corr_deleted, norm=False, pca=True, n_comp=5)\n",
    "tree = DecisionTreeClassifier(random_state=0)\n",
    "tree, prec, accur, rocauc, recall = model_pipeline(tree, X_train, X_test, y_train, y_test)\n",
    "print(f'precision: {prec}, accuracy: {accur}, recall: {recall}, roc auc: {rocauc}')"
   ],
   "metadata": {
    "colab": {
     "base_uri": "https://localhost:8080/"
    },
    "id": "mymE0hsMswgR",
    "outputId": "0ea7564f-21ba-4bac-a5f8-8b34f0158b21",
    "pycharm": {
     "name": "#%%\n"
    }
   },
   "execution_count": null,
   "outputs": [
    {
     "output_type": "stream",
     "name": "stdout",
     "text": [
      "precision: 0.825, accuracy: 0.8, recall: 0.8048780487804879, roc auc: 0.7994978479196557\n"
     ]
    }
   ]
  },
  {
   "cell_type": "code",
   "source": [
    "# подберем макс глубину, мин количество элементов в листе и количество компонент\n",
    "max_recall = 0\n",
    "best_n = 1\n",
    "best_depth = 1\n",
    "best_leaf = 1\n",
    "depth_collection = np.arange(2, 100)\n",
    "leaf_collection = np.arange(1, 50)\n",
    "components_collection = np.arange(1, 18)\n",
    "for depth, leaf, n in product(depth_collection, leaf_collection, components_collection):\n",
    "  X_train, X_test, y_train, y_test = prepro(data, corr_deleted, norm=False, pca=True, n_comp=n)\n",
    "  tree = DecisionTreeClassifier(random_state=0, max_depth=depth, min_samples_leaf=leaf)\n",
    "  tree, prec, accur, rocauc, recall = model_pipeline(tree, X_train, X_test, y_train, y_test)\n",
    "  if recall > max_recall:\n",
    "    max_recall = recall\n",
    "    best_depth = depth\n",
    "    best_leaf = leaf\n",
    "    best_n = n\n",
    "print(f'max recall: {max_recall}, best_depth: {best_depth}, best min samples leaf: {best_leaf}, best n: {best_n}')"
   ],
   "metadata": {
    "colab": {
     "base_uri": "https://localhost:8080/"
    },
    "id": "p0_J3XO4tw3o",
    "outputId": "f63e4098-e024-4541-e639-aae2e7cd89f1",
    "pycharm": {
     "name": "#%%\n"
    }
   },
   "execution_count": null,
   "outputs": [
    {
     "output_type": "stream",
     "name": "stdout",
     "text": [
      "max recall: 0.8536585365853658, best_depth: 8, best min samples leaf: 1, best n: 7\n"
     ]
    }
   ]
  },
  {
   "cell_type": "markdown",
   "source": [
    "#Random Forest"
   ],
   "metadata": {
    "id": "KVSCMcI508fd",
    "pycharm": {
     "name": "#%% md\n"
    }
   }
  },
  {
   "cell_type": "code",
   "source": [
    "# лес из на полных данных\n",
    "X_train, X_test, y_train, y_test = prepro(data)\n",
    "forest = RandomForestClassifier(random_state=0)\n",
    "forest, prec, accur, rocauc, recall = model_pipeline(forest, X_train, X_test, y_train, y_test)\n",
    "print(f'precision: {prec}, accuracy: {accur}, recall: {recall}, roc auc: {rocauc}')"
   ],
   "metadata": {
    "colab": {
     "base_uri": "https://localhost:8080/"
    },
    "id": "Q0JZRuAR_3xS",
    "outputId": "75da5229-d63e-4124-f718-6a1f79d6e495",
    "pycharm": {
     "name": "#%%\n"
    }
   },
   "execution_count": null,
   "outputs": [
    {
     "output_type": "stream",
     "name": "stdout",
     "text": [
      "precision: 0.8857142857142857, accuracy: 0.8133333333333334, recall: 0.7560975609756098, roc auc: 0.8192252510760402\n"
     ]
    }
   ]
  },
  {
   "cell_type": "code",
   "source": [
    "# лес сбез скоррелированных признаков\n",
    "X_train, X_test, y_train, y_test = prepro(data, corr_deleted)\n",
    "forest = RandomForestClassifier(random_state=0)\n",
    "forest, prec, accur, rocauc, recall = model_pipeline(forest, X_train, X_test, y_train, y_test)\n",
    "print(f'precision: {prec}, accuracy: {accur}, recall: {recall}, roc auc: {rocauc}')"
   ],
   "metadata": {
    "colab": {
     "base_uri": "https://localhost:8080/"
    },
    "id": "A7MaSJSTAUe1",
    "outputId": "d05d920f-222a-4166-f6cd-aac341e4c489",
    "pycharm": {
     "name": "#%%\n"
    }
   },
   "execution_count": null,
   "outputs": [
    {
     "output_type": "stream",
     "name": "stdout",
     "text": [
      "precision: 0.8648648648648649, accuracy: 0.8133333333333334, recall: 0.7804878048780488, roc auc: 0.8167144906743184\n"
     ]
    }
   ]
  },
  {
   "cell_type": "code",
   "source": [
    "# лес без скоррелированных признаков с best_depth, best_min_samples_leaf для дерева\n",
    "X_train, X_test, y_train, y_test = prepro(data, corr_deleted)\n",
    "forest = RandomForestClassifier(random_state=0, max_depth=3, min_samples_leaf=6)\n",
    "forest, prec, accur, rocauc, recall = model_pipeline(forest, X_train, X_test, y_train, y_test)\n",
    "print(f'precision: {prec}, accuracy: {accur}, recall: {recall}, roc auc: {rocauc}')"
   ],
   "metadata": {
    "colab": {
     "base_uri": "https://localhost:8080/"
    },
    "id": "WkyPqlAOAcik",
    "outputId": "d0967826-2168-4fbe-8995-e5b846f653c9",
    "pycharm": {
     "name": "#%%\n"
    }
   },
   "execution_count": null,
   "outputs": [
    {
     "output_type": "stream",
     "name": "stdout",
     "text": [
      "precision: 0.8536585365853658, accuracy: 0.84, recall: 0.8536585365853658, roc auc: 0.8385939741750358\n"
     ]
    }
   ]
  },
  {
   "cell_type": "code",
   "source": [
    "# подберем макс глубину, мин количество элементов в листе\n",
    "X_train, X_test, y_train, y_test = prepro(data, corr_deleted, norm=False)\n",
    "max_recall = 0\n",
    "precision = 0\n",
    "best_depth = 1\n",
    "depth_collection = np.arange(2, 100, 1)\n",
    "leaf_len_collection = np.arange(1, 50, 1)\n",
    "for depth, leaf in product(depth_collection, leaf_len_collection):\n",
    "  forest = RandomForestClassifier(random_state=0, max_depth=depth, min_samples_leaf=leaf)\n",
    "  forest, prec, accur, rocauc, recall = model_pipeline(forest, X_train, X_test, y_train, y_test)\n",
    "  if recall > max_recall:\n",
    "    max_recall = recall\n",
    "    precision = prec\n",
    "    best_depth = depth\n",
    "    best_leaf_len = leaf\n",
    "print(f'max recall: {max_recall}, precision: {max_precision}, best depth: {best_depth}, best_leaf_len: {best_leaf_len}')"
   ],
   "metadata": {
    "colab": {
     "base_uri": "https://localhost:8080/"
    },
    "id": "k1Z-ND5T47yC",
    "outputId": "b74b4802-31ed-4cc6-b643-1fdc993f20e8",
    "pycharm": {
     "name": "#%%\n"
    }
   },
   "execution_count": null,
   "outputs": [
    {
     "output_type": "stream",
     "name": "stdout",
     "text": [
      "max recall: 0.8780487804878049, precision: 0.8888888888888888, best depth: 5, best_leaf_len: 7\n"
     ]
    }
   ]
  },
  {
   "cell_type": "code",
   "source": [
    "# подберем макс глубину, мин количество элементов в листе и количество компонент\n",
    "max_recall = 0\n",
    "best_n = 1\n",
    "best_depth = 1\n",
    "best_leaf = 1\n",
    "depth_collection = np.arange(2, 20)\n",
    "leaf_collection = np.arange(1, 20)\n",
    "components_collection = np.arange(1, 18)\n",
    "for depth, leaf, n in product(depth_collection, leaf_collection, components_collection):\n",
    "  X_train, X_test, y_train, y_test = prepro(data, norm=False, pca=True, n_comp=n)\n",
    "  forest = RandomForestClassifier(random_state=0, max_depth=depth, min_samples_leaf=leaf)\n",
    "  forest, prec, accur, rocauc, recall = model_pipeline(forest, X_train, X_test, y_train, y_test)\n",
    "  if recall > max_recall:\n",
    "    max_recall = recall\n",
    "    best_depth = depth\n",
    "    best_leaf = leaf\n",
    "    best_n = n\n",
    "print(f'max recall: {max_recall}, best_depth: {best_depth}, best min samples leaf: {best_leaf}, best n: {best_n}')"
   ],
   "metadata": {
    "colab": {
     "base_uri": "https://localhost:8080/"
    },
    "id": "JJ-XzReSZS2k",
    "outputId": "70a1a34a-e48d-47c0-d6af-72c5152ff6fc",
    "pycharm": {
     "name": "#%%\n"
    }
   },
   "execution_count": null,
   "outputs": [
    {
     "output_type": "stream",
     "name": "stdout",
     "text": [
      "max recall: 0.9024390243902439, best_depth: 4, best min samples leaf: 11, best n: 12\n"
     ]
    }
   ]
  },
  {
   "cell_type": "code",
   "source": [
    "X_train, X_test, y_train, y_test = prepro(data, norm=False, pca=True, n_comp=best_n)\n",
    "forest = RandomForestClassifier(random_state=0, max_depth=best_depth, min_samples_leaf=best_leaf)\n",
    "forest, prec, accur, rocauc, recall = model_pipeline(forest, X_train, X_test, y_train, y_test)\n",
    "print(f'precision: {prec}, accuracy: {accur}, recall: {recall}, roc auc: {rocauc}')"
   ],
   "metadata": {
    "colab": {
     "base_uri": "https://localhost:8080/"
    },
    "id": "POkmMHzyKYJn",
    "outputId": "82e64661-8d43-4b2b-ec91-54ed75b364ae",
    "pycharm": {
     "name": "#%%\n"
    }
   },
   "execution_count": null,
   "outputs": [
    {
     "output_type": "stream",
     "name": "stdout",
     "text": [
      "precision: 0.9024390243902439, accuracy: 0.8933333333333333, recall: 0.9024390243902439, roc auc: 0.8923959827833572\n"
     ]
    }
   ]
  }
 ]
}